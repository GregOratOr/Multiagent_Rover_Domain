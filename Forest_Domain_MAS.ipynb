{
 "cells": [
  {
   "cell_type": "code",
   "execution_count": 1,
   "id": "4f2a60bc-2920-4383-8d4c-106264cb3d1f",
   "metadata": {},
   "outputs": [
    {
     "name": "stdout",
     "output_type": "stream",
     "text": [
      "pygame 2.6.1 (SDL 2.28.4, Python 3.12.7)\n",
      "Hello from the pygame community. https://www.pygame.org/contribute.html\n"
     ]
    }
   ],
   "source": [
    "# All imports go here\n",
    "import numpy as np\n",
    "import copy\n",
    "import math\n",
    "import random\n",
    "import csv\n",
    "import os\n",
    "import pandas as pd\n",
    "from tqdm import tqdm\n",
    "import pygame\n",
    "import time\n",
    "import pickle\n",
    "import turtle\n",
    "# from parameters import parameters as p"
   ]
  },
  {
   "cell_type": "markdown",
   "id": "38050443-a112-46a9-9564-4a72f7104716",
   "metadata": {},
   "source": [
    "## Parameters and Hyper Parameters\n",
    "\n",
    "<details>\n",
    "    <summary> Simulation Hyperparameters </summary>\n",
    "\n",
    "## Simulation Hyperparameters:\n",
    "1) Number_of_experiment : int\n",
    "2) Number_of_episodes : int\n",
    "3) Number_of_epochs : int\n",
    "4) POI_distribution : string\n",
    "5) Agent_distribution : string\n",
    "6) Reward_type : int\n",
    "</details>\n",
    "<details>\n",
    "    <summary> Domain Parameters </summary>\n",
    "\n",
    "## Domain Parameters:\n",
    "1) X_dimension : float\n",
    "2) y_dimension : float\n",
    "3) Number_of_POIs : int\n",
    "4) Number_of_agents : int\n",
    "</details>\n",
    "<details>\n",
    "    <summary> Fire Parameters </summary>\n",
    "\n",
    "## Fire Parameters:\n",
    "1) Value : float\n",
    "2) Level : int\n",
    "3) Coupling : int\n",
    "</details>\n",
    "<details>\n",
    "    <summary> Agent Parameters </summary>\n",
    "\n",
    "## Agent Parameters:\n",
    "1) Max_step : int\n",
    "2) Sensor_resolution : float\n",
    "3) Number_of_sectors : int\n",
    "4) Sensor_radius : float\n",
    "</details>\n",
    "<details>\n",
    "    <summary> Q-Learning Parameters </summary>\n",
    "\n",
    "## Q-Learning Parameters:\n",
    "1) Epsilon : float\n",
    "2) Epsilon_decay_factor : float\n",
    "3) Learning_rate : float\n",
    "4) Discount_factor : float\n",
    "</details>\n",
    "\n",
    "___\n",
    "<details>\n",
    "    <summary> Functions </summary>\n",
    "\n",
    "## Functions:\n",
    "1) \n",
    "</details>\n"
   ]
  },
  {
   "cell_type": "code",
   "execution_count": 2,
   "id": "c794de7b-dfa3-4645-b6c8-054f2ba90e91",
   "metadata": {},
   "outputs": [],
   "source": [
    "parameters = {}\n",
    "# Domain Params\n",
    "parameters[\"x_dim\"] = 50.0\n",
    "parameters[\"y_dim\"] = 50.0\n",
    "parameters[\"n_pois\"] = 5\n",
    "parameters[\"n_agents\"] = 3\n",
    "\n",
    "# Fire Params\n",
    "parameters[\"value\"] = 100\n",
    "parameters[\"level\"] = int(2)\n",
    "parameters[\"hazard_coupling\"] =   {1: {\"coupling\": 1, \"opti_coupling\": 1},\n",
    "                                   2: {\"coupling\": 2, \"opti_coupling\": 2},\n",
    "                                   3: {\"coupling\": 3, \"opti_coupling\": 4},\n",
    "                                   4: {\"coupling\": 3, \"opti_coupling\": 5},\n",
    "                                  }\n",
    "parameters[\"coupling\"] = int(parameters[\"hazard_coupling\"].get(parameters[\"level\"], 1)[\"coupling\"])\n",
    "parameters[\"opti_coupling\"] = int(parameters[\"hazard_coupling\"].get(parameters[\"level\"], 1)[\"opti_coupling\"])\n",
    "\n",
    "# Agent Params\n",
    "parameters[\"max_step\"] = 1.5\n",
    "parameters[\"sensor_res\"] = 90.0 # Sector size in degrees\n",
    "parameters[\"n_sectors\"] = int(360.0 / parameters[\"sensor_res\"])\n",
    "parameters[\"sensor_radius\"] = 3.0\n",
    "parameters[\"observation_size\"] = int(2 * parameters[\"n_sectors\"])\n",
    "\n",
    "# Q-Learning Params\n",
    "parameters[\"epsilon\"] = 0.9\n",
    "parameters[\"epsilon_decay_factor\"] = 0.95\n",
    "parameters[\"learning_rate\"] = 0.1\n",
    "parameters[\"discount_factor\"] = 0.95\n",
    "\n",
    "# Simulation Hyperparams\n",
    "parameters[\"n_experiments\"] = 1\n",
    "parameters[\"n_episodes\"] = int(1000)\n",
    "parameters[\"n_epochs\"] = int(20000)\n",
    "parameters[\"poi_distribution\"] = \"Random\"\n",
    "parameters[\"agent_distribution\"] = \"OneRandom\" # OneRandom, AllRandom\n",
    "parameters[\"reward_type\"] = 2 # 0: Global rewards, 1: Difference Rewards, 2: D++ Rewards\n",
    "   \n",
    "    "
   ]
  },
  {
   "cell_type": "markdown",
   "id": "8a8b5f84-90e5-42fa-a053-f8844fc05495",
   "metadata": {
    "jp-MarkdownHeadingCollapsed": true
   },
   "source": [
    "## Helper Functions\n",
    "\n",
    "<details>\n",
    "    <summary>Functions</summary>\n",
    "\n",
    "## Functions:\n",
    "1) save_poi_config_csv()\n",
    "2) save_agent_config_csv()\n",
    "3) get_angle()\n",
    "4) get_euclidean_distance()\n",
    "5) get_squared_distance()\n",
    "</details>\n",
    "\n",
    "## Description:\n"
   ]
  },
  {
   "cell_type": "code",
   "execution_count": 3,
   "id": "442e5aa9-6c11-45ac-a7d6-798def627cab",
   "metadata": {},
   "outputs": [],
   "source": [
    "# Helper Functions\n",
    "def save_poi_config_csv(pois_info, config_id):\n",
    "    \"\"\"\n",
    "    Saves POIs' configuration to a csv file in a folder called World_Config\n",
    "    \"\"\"\n",
    "    dir_name = './Configs'  # Intended directory for output files\n",
    "\n",
    "    if not os.path.exists(dir_name):  # If Data directory does not exist, create it\n",
    "        os.makedirs(dir_name)\n",
    "\n",
    "    pfile_name = os.path.join(dir_name, f'POI_Config{config_id}.csv')\n",
    "\n",
    "    with open(pfile_name, 'w', newline='') as csvfile:\n",
    "        writer = csv.writer(csvfile)\n",
    "        for poi_id in range(len(pois_info)):\n",
    "            writer.writerow(pois_info[poi_id, :])\n",
    "\n",
    "    csvfile.close()\n",
    "\n",
    "def save_agent_config_csv(agent_infos, config_id):\n",
    "    \"\"\"\n",
    "    Saves Agents' configuration to a csv file in a folder called World_Config\n",
    "    \"\"\"\n",
    "    dir_name = './Configs'  # Intended directory for output files\n",
    "\n",
    "    if not os.path.exists(dir_name):  # If Data directory does not exist, create it\n",
    "        os.makedirs(dir_name)\n",
    "\n",
    "    pfile_name = os.path.join(dir_name, f'Agent_Config{config_id}.csv')\n",
    "\n",
    "    row = np.zeros(3)\n",
    "    with open(pfile_name, 'w', newline='') as csvfile:\n",
    "        writer = csv.writer(csvfile)\n",
    "        for agent_id in range(len(agent_infos)):\n",
    "            writer.writerow(agent_infos[agent_id, :])\n",
    "\n",
    "    csvfile.close()\n",
    "\n",
    "def create_pickle_file(input_data, dir_name, file_name):\n",
    "    \"\"\"\n",
    "    Create a pickle file using provided data in the specified directory\n",
    "    \"\"\"\n",
    "    if not os.path.exists(dir_name):  # If Data directory does not exist, create it\n",
    "        os.makedirs(dir_name)\n",
    "\n",
    "    path_name = os.path.join(dir_name, file_name)\n",
    "    rover_file = open(path_name, 'wb')\n",
    "    pickle.dump(input_data, rover_file)\n",
    "    rover_file.close()\n",
    "\n",
    "def get_angle(source_x, source_y, target_x, target_y, radians=False):\n",
    "    radian_angle = math.atan2(target_y - source_y, target_x - source_x)\n",
    "    if radians:\n",
    "        return radian_angle\n",
    "    return math.degrees(radian_angle)\n",
    "\n",
    "def get_euclidean_distance(source_x, source_y, target_x, target_y):\n",
    "    d = math.sqrt((target_y - source_y)**2 + (target_x - source_x)**2)\n",
    "    if d < 0.01:\n",
    "        d = 0.01 \n",
    "    return d\n",
    "\n",
    "def get_squared_distance(source_x, source_y, target_x, target_y):\n",
    "    d =(target_y - source_y)**2 + (target_x - source_x)**2\n",
    "    if d < 0.0001:\n",
    "        d = 0.0001 \n",
    "    return d\n",
    "    "
   ]
  },
  {
   "cell_type": "markdown",
   "id": "20956a91-4fe7-4ebd-8c43-51769bed2310",
   "metadata": {},
   "source": [
    "## Agent Class\n",
    "\n",
    "<details>\n",
    "    <summary> Parameters </summary>\n",
    "\n",
    "### Parameters:\n",
    "1) ID : int\n",
    "2) Location : (x: float, y: float, theta: float)\n",
    "4) Step_size : float\n",
    "5) Sensor_radius : float\n",
    "6) Sensor_resolution : float in degrees.\n",
    "7) Number_of_sectors : int (360/resolution)\n",
    "8) Current_observation : ndarray\n",
    "9) Past_observation : ndarray\n",
    "10) Action_space (up, down, left, right)\n",
    "11) Q-table : dict\n",
    "12) Local_reward : float\n",
    "13) Current_action_dir : float (angle phi)\n",
    "14) Learning_rate : float\n",
    "15) Discount_factor : float\n",
    "16) Epsilon : float \n",
    "17) Snapshot : list (stores parameters that remain same across configs)\n",
    "</details>\n",
    "\n",
    "\n",
    "<details>\n",
    "  <summary> Functions </summary>\n",
    "    \n",
    "### Functions:\n",
    "1) reset()\n",
    "2) setup_sector_angles()\n",
    "3) get_sector_from_direction()\n",
    "4) get_direction_from_sector()\n",
    "5) move()\n",
    "6) turn()\n",
    "7) new_location()\n",
    "8) update_history()\n",
    "9) get_Qvalue()\n",
    "10) set_Qvalue()\n",
    "11) update_Qvalue()\n",
    "12) scan_surrounding()\n",
    "13) scan_for_pois()\n",
    "14) scan_for_agents()\n",
    "15) **select_action()**\n",
    "16) e_greedy()\n",
    "</details>\n",
    "\n",
    "### Desciption:\n"
   ]
  },
  {
   "cell_type": "code",
   "execution_count": 4,
   "id": "4e8cad18-0ba0-4fa9-9f39-24fab9d786cd",
   "metadata": {},
   "outputs": [],
   "source": [
    "class Agent:\n",
    "    def __init__(self, agent_id, x_pos, y_pos, theta):\n",
    "        self.state_size = 8 # (size of the encoding for observations from environment) This needs to change when the actual observation size is known.\n",
    "        self.agent_id = agent_id\n",
    "        self.loc = np.array([x_pos, y_pos, theta])\n",
    "        self.max_step = p[\"max_step\"]\n",
    "        \n",
    "        # Sensor specs.\n",
    "        self.sensor_range = p[\"sensor_radius\"]\n",
    "        self.sensor_res = p[\"sensor_res\"]\n",
    "        self.n_sectors = p[\"n_sectors\"]\n",
    "        self.sector_angles = self.setup_sector_angles()\n",
    "        \n",
    "        # MDP params\n",
    "        self.curr_obs = np.zeros(self.state_size)\n",
    "        self.prev_obs = np.zeros(self.state_size)\n",
    "        self.action_space = [i for i in range(self.n_sectors)] # 0 - Front, 1 - Left, 2 - Back, 3 - Right\n",
    "        self.Qtable = {}\n",
    "        self.l_reward = 0.0\n",
    "        self.curr_action_dir = 0.0\n",
    "        self.lr = p[\"learning_rate\"]\n",
    "        self.dscf = p[\"discount_factor\"]\n",
    "\n",
    "        # Logging info\n",
    "        self.snap = [self.lr, self.dscf]\n",
    "        self.path = [self.loc.copy()]\n",
    "\n",
    "    def reset(self, config):\n",
    "        self.loc[0] = config[0]\n",
    "        self.loc[1] = config[1]\n",
    "        self.loc[2] = config[2]\n",
    "        self.curr_obs = np.zeros(self.state_size)\n",
    "        self.prev_obs = self.curr_obs.copy()\n",
    "        self.l_reward = 0.0\n",
    "        self.curr_action_dir = 0.0\n",
    "        self.lr = self.snap[0]\n",
    "        self.dscf = self.snap[1]\n",
    "        self.path = [self.loc.copy()]\n",
    "\n",
    "    def setup_sector_angles(self):\n",
    "        half = self.sensor_res/2\n",
    "        angles = []\n",
    "        n = self.n_sectors\n",
    "        \n",
    "        s = 90.0 - half\n",
    "        for i in range(n):\n",
    "            angles.append(s)\n",
    "            s += self.sensor_res\n",
    "        return angles\n",
    "        \n",
    "    def get_sector_from_direction(self, direction):\n",
    "        # direction should be in range [0, 360)\n",
    "        # direction = direction - self.loc[2]  # This line will change direction from world coordinate system to local coordiate system.\n",
    "        if direction < 0:\n",
    "            while direction < 0:\n",
    "                direction += 360\n",
    "        elif direction >= 360:\n",
    "            while direction >= 360:\n",
    "                direction -= 360\n",
    "\n",
    "        for i in range(len(self.sector_angles) - 1):\n",
    "            if direction >= self.sector_angles[i] and direction < self.sector_angles[i + 1]:\n",
    "                # print(\"Quadrant = \", i)\n",
    "                return i, direction\n",
    "                \n",
    "        # print(\"Quadrant = \", len(self.sector_angles) - 1)\n",
    "        return len(self.sector_angles) - 1, direction\n",
    "\n",
    "    def get_direction_from_sector(self, sector):\n",
    "        direction = self.sector_angles[sector] + self.sensor_res/2\n",
    "        if direction >= 360.0:\n",
    "            direction -= 360.0\n",
    "        rad_angle = math.radians(direction) \n",
    "        dir_vector = [math.cos(rad_angle), math.sin(rad_angle)]\n",
    "        return direction, dir_vector\n",
    "\n",
    "    def move(self, new_location):\n",
    "        self.loc[:2] = new_location\n",
    "        self.update_history()\n",
    "\n",
    "    def turn(self, new_direction):\n",
    "        self.loc[2] = new_direction\n",
    "        self.update_history()\n",
    "\n",
    "    def new_location(self, new_location):\n",
    "        self.loc = new_location\n",
    "        self.update_history()\n",
    "    \n",
    "    def update_history(self):\n",
    "        self.path.append(self.loc.copy())\n",
    "\n",
    "    def get_Qvalue(self, observation, action):\n",
    "        return self.Qtable.get((tuple(observation), action), 0.0)\n",
    "\n",
    "    def set_Qvalue(self, observation, action, value):\n",
    "        self.Qtable[(tuple(observation), action)] = value\n",
    "    \n",
    "    def update_Qvalue(self):\n",
    "        curr_Q = self.get_Qvalue(self.curr_obs.tolist(), self.get_sector_from_direction(self.curr_action_dir))\n",
    "        next_Qs = [self.get_Qvalue(self.curr_obs.tolist(), next_sector) for next_sector in range(self.n_sectors)]\n",
    "        best_Q = np.max(next_Qs)\n",
    "        td_error = self.l_reward + self.dscf * (best_Q - curr_Q)\n",
    "        new_Q = curr_Q + self.lr * td_error\n",
    "        if self.agent_id == 0:\n",
    "            if new_Q != 0.0:\n",
    "                print(self.prev_obs.tolist(), \":\", new_Q, \"\\n\\n\")\n",
    "        self.set_Qvalue(self.prev_obs.tolist(), self.get_sector_from_direction(self.curr_action_dir), new_Q)\n",
    "\n",
    "    def scan_surrounding(self, agents, pois, distance_table):\n",
    "        observation_for_pois = self.scan_for_pois(pois, distance_table)\n",
    "        observation_for_other_agents = self.scan_for_agents(agents)\n",
    "        self.prev_obs = self.curr_obs.copy()\n",
    "        self.curr_obs = np.concatenate((observation_for_pois, observation_for_other_agents))\n",
    "    \n",
    "    def scan_for_pois(self, pois, dist_table):\n",
    "        poi_state = np.zeros(self.n_sectors)\n",
    "        state_mask = np.zeros(self.n_sectors)\n",
    "        dist_sq_to_pois = dist_table[:, self.agent_id]\n",
    "        \n",
    "        detection_radius_sq = self.sensor_range**2\n",
    "        poi_ids_in_range = np.where(dist_sq_to_pois <= detection_radius_sq)[0]\n",
    "        # poi_ids_out_range = np.where(dist_sq_to_pois > detection_radius_sq)[0]\n",
    "        \n",
    "        for poi_id in poi_ids_in_range:\n",
    "            poi = pois[poi_id]\n",
    "            angle = get_angle(self.loc[0], self.loc[1], poi.loc[0], poi.loc[1])\n",
    "            poi_sector, angle = self.get_sector_from_direction(angle)\n",
    "            dist_sq = dist_sq_to_pois[poi_id]\n",
    "            if poi.poi_id in poi_ids_in_range:\n",
    "                # Detected the POI\n",
    "                state_mask[poi_sector] = 1\n",
    "                poi_state[poi_sector] += float(poi.val/dist_sq) \n",
    "\n",
    "        for idx in range(self.n_sectors):\n",
    "            if state_mask[idx] == 0:\n",
    "                poi_state[idx] = -1\n",
    "        return poi_state\n",
    "    \n",
    "    def scan_for_agents(self, agents):\n",
    "        agent_state = np.zeros(self.n_sectors)\n",
    "        state_mask = np.zeros(self.n_sectors)\n",
    "\n",
    "        x_self, y_self, theta_self = self.loc\n",
    "        detection_radius_sq = self.sensor_range**2\n",
    "\n",
    "        for other_agent in agents:\n",
    "            if other_agent.agent_id == self.agent_id:\n",
    "                continue\n",
    "\n",
    "            x_other, y_other, theta_other = other_agent.loc\n",
    "            dist_sq = (x_other - x_self)**2 + (y_other - y_self)**2\n",
    "            if dist_sq < 0.01:\n",
    "                dist_sq = 0.01\n",
    "            if dist_sq <= detection_radius_sq:\n",
    "                angle = get_angle(x_self, y_self, x_other, y_other)\n",
    "                agent_sector, angle = self.get_sector_from_direction(angle)\n",
    "\n",
    "                state_mask[agent_sector] = 1\n",
    "                agent_state[agent_sector] += 1/dist_sq\n",
    "        for idx in range(self.n_sectors):\n",
    "            if state_mask[idx] == 0:\n",
    "                agent_state[idx] = -1\n",
    "        return agent_state\n",
    "    \n",
    "    def e_greedy(self, epsilon):\n",
    "        if np.random.rand() < epsilon:\n",
    "            # We explore\n",
    "            angle = np.random.uniform(0.0, 360.0)\n",
    "            rad_angle = math.radians(angle)\n",
    "            dir_vector = [math.cos(rad_angle), math.sin(rad_angle)]\n",
    "            return dir_vector, angle\n",
    "        else:\n",
    "            # We exploit\n",
    "            # q_values = []\n",
    "            max_Qvalue = -1000.0\n",
    "            best_action_sector = None\n",
    "            for action in range(self.n_sectors): # Action here is a sector of choice NOT a direction vector.\n",
    "                # q_values.append(self.get_Qvalue(self.curr_obs.tolist(), action))\n",
    "                Q_val = self.get_Qvalue(self.curr_obs.tolist(), action)\n",
    "                if Q_val > max_Qvalue:\n",
    "                    # found new max value\n",
    "                    best_action_sector = action\n",
    "                    max_Qvalue = Q_val\n",
    "            # max_Qvalue = np.max(q_values)\n",
    "            # best_action_sector = np.argmax(q_values)\n",
    "            \n",
    "            angle, dir_vector = self.get_direction_from_sector(best_action_sector)\n",
    "            return dir_vector, angle"
   ]
  },
  {
   "cell_type": "code",
   "execution_count": 5,
   "id": "12e87bf4-e8cf-41ba-9166-1b595464d624",
   "metadata": {
    "jupyter": {
     "source_hidden": true
    }
   },
   "outputs": [],
   "source": [
    "# def get_sector_from_direction(res, n_sect, direction):\n",
    "#     # direction should be in range [0, 360)\n",
    "#     if direction < 0:\n",
    "#         while direction < 0:\n",
    "#             direction += 360\n",
    "#     elif direction >= 360:\n",
    "#         while direction >= 360:\n",
    "#             direction -= 360\n",
    "\n",
    "#     half = res/2\n",
    "#     angles = []\n",
    "#     n = n_sect\n",
    "        \n",
    "#     s = 90.0 - half\n",
    "    \n",
    "#     for i in range(n):\n",
    "#         angles.append(s)\n",
    "#         s += res\n",
    "        \n",
    "#     flag = False\n",
    "#     for i in range(len(angles) - 1):\n",
    "#         if direction >= angles[i] and direction < angles[i + 1]:\n",
    "#             flag = True\n",
    "#             print(\"Quadrant = \", i, direction)\n",
    "#     if not flag:        \n",
    "#         if (direction >= 0.0 and direction < angles[0]) or (direction >= angles[-1] and direction < 360): \n",
    "#             print(\"Quadrant = \", len(angles) - 1, direction)\n",
    "#     print(angles)\n",
    "#     return angles\n",
    "\n",
    "\n",
    "# def get_direction_from_sector(angles, res, sector):\n",
    "#     sector_angles = angles\n",
    "#     direction = sector_angles[sector] + res/2\n",
    "    \n",
    "#     # if sector >= len(sector_angles) - 1:\n",
    "#     if direction >= 360.0:\n",
    "#         direction -= 360.0\n",
    "#     print(direction)\n",
    "    \n",
    "# res = 60\n",
    "# n_sect = int(360/res)\n",
    "# sect_angles = get_sector_from_direction(res, n_sect, 40)\n",
    "# for i in range(n_sect):\n",
    "#     get_direction_from_sector(sect_angles, res, i)"
   ]
  },
  {
   "cell_type": "markdown",
   "id": "31498530-1492-4638-bf1d-7970cafba20f",
   "metadata": {
    "jp-MarkdownHeadingCollapsed": true
   },
   "source": [
    "## Point of Interest Class\n",
    "\n",
    "<details>\n",
    "    <summary> Parameters </summary>\n",
    "\n",
    "### Parameters:\n",
    "1) ID : int\n",
    "2) Location : (x: float, y: float)\n",
    "3) Value : float\n",
    "4) Level : int (what is the hazard level of POI)\n",
    "5) Coupling : int (minimum number of agents reqired)\n",
    "6) Detected : bool (True if it's detected, False otherwise)\n",
    "7) Done : bool (True if it's harvested, False otherwise)\n",
    "8) Snapshot : list (stores parameters that stay constant across configs)\n",
    "</details>\n",
    "\n",
    "<details>\n",
    "  <summary> Functions </summary>\n",
    "    \n",
    "### Functions:\n",
    "1) reset()\n",
    "2) set_detected()\n",
    "3) set_done()\n",
    "</details>\n",
    "\n",
    "### Desciption:\n"
   ]
  },
  {
   "cell_type": "code",
   "execution_count": 6,
   "id": "5a5e4f61-824e-49ae-bf24-e8fb3dd1bcf9",
   "metadata": {},
   "outputs": [],
   "source": [
    "class POI:\n",
    "    def __init__(self, poi_id, x_pos, y_pos, value, level, coupling, opti_coupling):\n",
    "        self.poi_id = int(poi_id)\n",
    "        self.loc = np.array([x_pos, y_pos])\n",
    "        self.val = value\n",
    "        self.level = int(level)\n",
    "        self.coupling = int(coupling)\n",
    "        self.opti_coupling = int(opti_coupling)\n",
    "        self.detected = False\n",
    "        self.done = False\n",
    "        self.snap = [self.detected]\n",
    "\n",
    "    def reset(self, config):\n",
    "        self.loc[0] = config[0]\n",
    "        self.loc[1] = config[1]\n",
    "        self.val = config[2]\n",
    "        self.level = config[3]\n",
    "        self.coupling = config[4]\n",
    "        self.opti_coupling = config[5]\n",
    "        self.detected = self.snap[0]\n",
    "        self.done = False\n",
    "\n",
    "    def set_detected(self, flag):\n",
    "        self.detected = flag\n",
    "\n",
    "    def set_done(self, flag):\n",
    "        self.done = flag"
   ]
  },
  {
   "cell_type": "markdown",
   "id": "6aa1266f-aa90-42ef-9ce2-f4ec87cdef6f",
   "metadata": {},
   "source": [
    "## Forest Domain Class\n",
    "\n",
    "<details>\n",
    "    <summary> Parameters </summary>\n",
    "\n",
    "### Parameters:\n",
    "1) X : float\n",
    "2) Y : float\n",
    "3) Number of POI : int\n",
    "4) Number of Agents : int\n",
    "5) Done : bool (True if all fires are done, False otherwise)\n",
    "6) Global_rewards : list (one reward for each poi)\n",
    "7) Agents : list (objects of Agent Class)\n",
    "8) Agent_configurations : 2D List (stores different positional configurations of Agents) \n",
    "9) POIs : list (objects of POI Class)\n",
    "10) POI_configurations : 2D List (stores different positional configurations of POIs)\n",
    "11) POI_agent_distances : 2D array of floats (distance squared values for each poi and agent pair)\n",
    "</details>\n",
    "\n",
    "<details>\n",
    "  <summary> Functions </summary>\n",
    "    \n",
    "### Functions:\n",
    "1) reset()\n",
    "2) **show_simulation_details()**\n",
    "3) goals_done()\n",
    "4) create_forest()\n",
    "5) setup_forest()\n",
    "6) create_poi_config()\n",
    "7) create_agent_config()\n",
    "6) load_poi_config()\n",
    "7) load_agent_config()\n",
    "8) update_distance_table()\n",
    "9) select_joint_action()\n",
    "10) calculate_global_reward()\n",
    "11) **calculate_difference_reward()**\n",
    "12) step()\n",
    "13) execute()\n",
    "</details>\n",
    "\n",
    "### Desciption:"
   ]
  },
  {
   "cell_type": "code",
   "execution_count": 7,
   "id": "87a21830-d895-488c-831f-c3bee6cdca05",
   "metadata": {
    "editable": true,
    "jupyter": {
     "source_hidden": true
    },
    "slideshow": {
     "slide_type": ""
    },
    "tags": []
   },
   "outputs": [],
   "source": [
    "class ForestDomain:\n",
    "    def __init__(self):\n",
    "        self.X = p[\"x_dim\"]\n",
    "        self.Y = p[\"y_dim\"]\n",
    "        self.n_pois = p[\"n_pois\"]\n",
    "        self.n_agents = p[\"n_agents\"]\n",
    "        self.done = False\n",
    "        self.global_rewards = np.zeros(self.n_pois)\n",
    "        self.agents = np.empty(self.n_agents, dtype=object)\n",
    "        self.agent_configs = [[] for _ in range(self.n_agents)]\n",
    "        self.pois = np.empty(self.n_pois, dtype=object)\n",
    "        self.poi_configs = [[] for _ in range(self.n_pois)]\n",
    "        self.distance_table = np.ones((self.n_pois, self.n_agents)) # stores squared eucliedian distances\n",
    "        \n",
    "    def reset(self, config_id):\n",
    "        self.done = False\n",
    "        self.global_rewards = np.zeros(self.n_pois)\n",
    "        self.distance_table[:, :] = 1000.0\n",
    "        for idx, poi in enumerate(self.pois):\n",
    "            poi.reset(self.poi_configs[idx][config_id])\n",
    "        for idx, agent in enumerate(self.agents):\n",
    "            agent.reset(self.agent_configs[idx][config_id])\n",
    "        \n",
    "    def goals_done(self):\n",
    "        for poi in self.pois:\n",
    "            if poi.done:\n",
    "                continue\n",
    "            else:\n",
    "                return False\n",
    "        return True\n",
    "\n",
    "    def create_forest(self, config_id):\n",
    "        poi_infos = self.create_poi_config()\n",
    "        save_poi_config_csv(poi_infos, config_id)\n",
    "        \n",
    "        agent_infos = self.create_agent_config(poi_infos)\n",
    "        save_agent_config_csv(agent_infos, config_id)\n",
    "        \n",
    "    def setup_forest(self):\n",
    "        f1 = self.load_poi_config()\n",
    "        # print(self.pois[:].poi_id)\n",
    "        f2 = self.load_agent_config()\n",
    "        if f1 and f2:\n",
    "            print(\"Forest Ready.\")\n",
    "            return True\n",
    "        return False\n",
    "        \n",
    "    def create_poi_config(self):\n",
    "        all_poi_params = np.zeros((self.n_pois, 7)) # (n_pois) X (poi_id, x_pos, y_pos, value, level, coupling, opti_coupling)\n",
    "        if p[\"poi_distribution\"] == \"Random\":\n",
    "            for idx in range(self.n_pois):\n",
    "                # all_poi_params[idx, 0] = int(idx)\n",
    "                \n",
    "                x = random.uniform(0, self.X - 1.0)\n",
    "                y = random.uniform(0, self.Y - 1.0)\n",
    "    \n",
    "                too_close = True\n",
    "                while too_close:\n",
    "                    count = 0\n",
    "                    for i in range(self.n_pois):\n",
    "                        if i != idx:\n",
    "                            x_dist = x - all_poi_params[idx, 1]\n",
    "                            y_dist = y - all_poi_params[idx, 2]\n",
    "                            dist_sq = x_dist** 2 + y_dist**2\n",
    "                            min_dist_sq = (p[\"sensor_radius\"] * 2.1)** 2\n",
    "                            if dist_sq <= min_dist_sq:\n",
    "                                count += 1\n",
    "                    if count == 0:\n",
    "                        too_close = False\n",
    "                    else:\n",
    "                        x = random.uniform(0, self.X - 1.0)\n",
    "                        y = random.uniform(0, self.Y - 1.0)\n",
    "                all_poi_params[idx, 0] = x\n",
    "                all_poi_params[idx, 1] = y\n",
    "                all_poi_params[idx, 2] = p[\"value\"]\n",
    "                all_poi_params[idx, 3] = p[\"level\"]\n",
    "                all_poi_params[idx, 4] = p[\"coupling\"]\n",
    "                all_poi_params[idx, 5] = p[\"opti_coupling\"]\n",
    "        print(\"POI Configurations generated.\")\n",
    "        return all_poi_params\n",
    "\n",
    "    def create_agent_config(self, poi_info):\n",
    "        all_agent_params = np.zeros((self.n_agents, 4)) # (n_agents) X (agent_id, x_pos, y_pos, theta)\n",
    "        if p[\"agent_distribution\"] == \"OneRandom\":\n",
    "            x_pos = random.uniform(0.0, self.X - 1.0)\n",
    "            y_pos = random.uniform(0.0, self.Y - 1.0)\n",
    "            theta = random.uniform(0.0, 360.0)\n",
    "            buffer = 3.0\n",
    "            \n",
    "            too_close = True\n",
    "            while too_close:\n",
    "                count = 0\n",
    "                for poi_idx in range(self.n_pois):\n",
    "                    x_dist = x_pos - poi_info[poi_idx, 1]\n",
    "                    y_dist = y_pos - poi_info[poi_idx, 2]\n",
    "                    dist_sq = x_dist**2 + y_dist**2\n",
    "                    min_dist_sq = (p[\"sensor_radius\"] * 2.0 + buffer)** 2\n",
    "                    if dist_sq <= min_dist_sq:\n",
    "                        count += 1\n",
    "                \n",
    "                if count == 0:\n",
    "                    too_close = False\n",
    "                else:\n",
    "                    x_pos = random.uniform(0.0, self.X - 1.0)\n",
    "                    y_pos = random.uniform(0.0, self.Y - 1.0)\n",
    "            \n",
    "            for idx in range(self.n_agents):\n",
    "                # all_agent_params[idx, 0] = int(idx)\n",
    "                all_agent_params[idx, 0] = x_pos\n",
    "                all_agent_params[idx, 1] = y_pos\n",
    "                all_agent_params[idx, 2] = theta\n",
    "                \n",
    "        # elif p[\"agent_distribution\"] == \"AllRandom\":\n",
    "        print(\"Agent Configurations generated.\")\n",
    "        return all_agent_params\n",
    "    \n",
    "    def load_poi_config(self):\n",
    "        for cf_id in range(p[\"n_experiments\"]):\n",
    "            csv_input = []\n",
    "            status = False\n",
    "            with open(f'./Configs/POI_Config{cf_id}.csv', mode='r') as csvfile:\n",
    "                csv_reader = csv.reader(csvfile, delimiter=',')\n",
    "                for row in csv_reader:\n",
    "                    csv_input.append(row)\n",
    "    \n",
    "            for idx in range(self.n_pois):\n",
    "                poi_id = idx #int(float(csv_input[idx][0]))\n",
    "                x_pos = float(csv_input[idx][0])\n",
    "                y_pos = float(csv_input[idx][1])\n",
    "                value = float(csv_input[idx][2])\n",
    "                level = int(float(csv_input[idx][3]))\n",
    "                coupling = int(float(csv_input[idx][4]))\n",
    "                opti_coupling = int(float(csv_input[idx][5]))\n",
    "                \n",
    "                if cf_id == 0:\n",
    "                    self.pois[idx] = POI(poi_id, x_pos, y_pos, value, level, coupling, opti_coupling)\n",
    "                    \n",
    "                self.poi_configs[poi_id].append((x_pos, y_pos, value, level, coupling, opti_coupling))\n",
    "\n",
    "        status = True\n",
    "        return status\n",
    "\n",
    "    def load_agent_config(self):\n",
    "        status = False\n",
    "        for cf_id in range(p[\"n_experiments\"]):\n",
    "            csv_input = []\n",
    "            with open(f'./Configs/Agent_Config{cf_id}.csv', mode='r') as csvfile:\n",
    "                csv_reader = csv.reader(csvfile, delimiter=',')\n",
    "\n",
    "                for row in csv_reader:\n",
    "                    csv_input.append(row)\n",
    "\n",
    "            for idx in range(self.n_agents):\n",
    "                agent_id = idx #int(float(csv_input[idx][0]))\n",
    "                x_pos = float(csv_input[idx][0])\n",
    "                y_pos = float(csv_input[idx][1])\n",
    "                theta = float(csv_input[idx][2])\n",
    "\n",
    "                if cf_id == 0:\n",
    "                    self.agents[idx] = Agent(agent_id, x_pos, y_pos, theta)\n",
    "\n",
    "                self.agent_configs[idx].append((x_pos, y_pos, theta))\n",
    "                \n",
    "        status = True\n",
    "        return status\n",
    "\n",
    "    def update_distance_table(self):\n",
    "        for poi in self.pois:\n",
    "            # for each poi\n",
    "            poi_x, poi_y = poi.loc\n",
    "            for agent in self.agents:\n",
    "                a_x, a_y, a_t = agent.loc\n",
    "                dist_sq = (poi_x - a_x)**2 + (poi_y - a_y)**2\n",
    "                if dist_sq < 0.01:\n",
    "                    dist_sq = 0.01\n",
    "                self.distance_table[poi.poi_id, agent.agent_id] = dist_sq\n",
    "        '''\n",
    "        print(\"ForestDomain:: Distance Table: \\n\")\n",
    "        for r in self.distance_table:\n",
    "            for c in r:\n",
    "                print(c, \" \")\n",
    "            print(\"\\n\")\n",
    "        '''\n",
    "    \n",
    "    def select_joint_action(self, epsilon):\n",
    "        joint_action = np.zeros((self.n_agents, 2)) # returns x, y direction vector for action taken.\n",
    "        for agent in self.agents:\n",
    "            action, angle = agent.e_greedy(epsilon)\n",
    "            joint_action[agent.agent_id] = action\n",
    "        return joint_action\n",
    "    \n",
    "    def calc_global_reward(self):\n",
    "        global_reward = np.zeros(self.n_pois)\n",
    "        # Calculate the global rewards for each POI.\n",
    "        for poi in self.pois:\n",
    "            observers = 0\n",
    "            # Check which agents have detected the POI.\n",
    "            detection_radius_sq = (p[\"sensor_radius\"]/2.0)**2\n",
    "            observer_agent_ids = np.where(self.distance_table[poi.poi_id] <= detection_radius_sq)[0]\n",
    "            observers = len(observer_agent_ids)\n",
    "            if observers > 1:\n",
    "                poi.set_detected(True)\n",
    "            # Get just observer count\n",
    "            '''\n",
    "            sorted_dist_sq_from_poi = np.sort(self.distance_table[poi.poi_id])\n",
    "            for i in range(poi.coupling):\n",
    "                if sorted_dist_sq_from_poi[i] < detection_radius_sq:\n",
    "                    observers += 1\n",
    "             '''       \n",
    "            if observers >= int(poi.coupling):\n",
    "                # We have minimum required agents\n",
    "                dist_sq_sum = np.sum(np.partition(self.distance_table[poi.poi_id], observers-1)[:observers])\n",
    "                v = poi.val/dist_sq_sum\n",
    "                reward_full = v  # Add any other partial rewards gained in the process here.\n",
    "                optimum_coupling = poi.opti_coupling  # When there is a different optimum value than the minimum, change this. \n",
    "                global_reward[poi.poi_id] = reward_full * (np.e/float(optimum_coupling)) * np.exp(-1 * float(observers/optimum_coupling)) \n",
    "                flag = True\n",
    "                # If the agent needs to be on the POI's location to complete it. Un-comment the block below. \n",
    "                ''' \n",
    "                observers_on_poi = 0\n",
    "                for i in range(observers_in_range):\n",
    "                    if sorted_dist_sq_from_poi[i] <= 0.001:\n",
    "                        # Has reached poi\n",
    "                        continue\n",
    "                    else:\n",
    "                        # Atleast 1 is missing.\n",
    "                        flag = False\n",
    "                '''\n",
    "                poi.set_done(flag)\n",
    "        self.global_rewards = global_reward\n",
    "\n",
    "    def calc_difference_reward(self):\n",
    "        difference_rewards = np.zeros(self.n_agents)\n",
    "        for agent in self.agents:\n",
    "            counterfactual = 0.0\n",
    "            counterfactual_rewards = np.zeros(self.n_pois)\n",
    "            detection_radius_sq = (agent.sensor_range/2.0)**2\n",
    "            for poi in self.pois:\n",
    "                observers = 0\n",
    "                distances = self.distance_table[poi.poi_id, :]\n",
    "                agents_in_radius = distances <= detection_radius_sq\n",
    "                agents_in_radius[agent.agent_id] = False\n",
    "\n",
    "                observers = np.sum(agents_in_radius)\n",
    "                if observers >= poi.coupling:\n",
    "                    dist_sq_sum = np.sum(distances[agents_in_radius])\n",
    "                    v = poi.val/dist_sq_sum\n",
    "                    counterfactual_rewards[poi.poi_id] = v * (np.e / float(poi.opti_coupling)) * np.exp(-1 * float(observers/poi.opti_coupling))\n",
    "            difference_rewards[agent.agent_id] = np.sum(self.global_rewards - counterfactual_rewards)\n",
    "        return difference_rewards  \n",
    "\n",
    "    def calc_difference_plus_plus(self):\n",
    "        difference_rewards = self.calc_difference_reward()\n",
    "        dpp_rewards = np.zeros(self.n_agents)\n",
    "        n_ghost_agents = self.n_agents - 1\n",
    "        n_ghost_opti = 0\n",
    "        for agent in self.agents:\n",
    "            detection_radius_sq = (agent.sensor_range/2.0)**2\n",
    "            ghost_global = np.zeros(self.n_pois)\n",
    "            \n",
    "            n_ghost = 1\n",
    "            while n_ghost <= n_ghost_agents:\n",
    "                poi_rewards = np.zeros(self.n_pois)\n",
    "                for poi in self.pois:\n",
    "                    observers = 0\n",
    "                    dist_sq = self.distance_table[poi.poi_id]\n",
    "                    ghost_dist_to_add = np.full(n_ghost, dist_sq[agent.agent_id])\n",
    "                    dist_sq_ghost = np.append(dist_sq, dist_sq[agent.agent_id])\n",
    "                    agents_in_radius = dist_sq_ghost <= detection_radius_sq\n",
    "                    observers = np.sum(agents_in_radius)\n",
    "    \n",
    "                    if observers >= poi.coupling:\n",
    "                        dist_sq_sum = np.sum(dist_sq_ghost[agents_in_radius])\n",
    "                        v = poi.val/dist_sq_sum\n",
    "                        poi_rewards[poi.poi_id] = v * (np.e / float(poi.opti_coupling)) * np.exp(-1 * float(observers/poi.opti_coupling))\n",
    "                if np.sum(poi_rewards) > np.sum(ghost_global):\n",
    "                    ghost_global = poi_rewards.copy()\n",
    "                    n_ghost_opti = n_ghost\n",
    "                    n_ghost += 1\n",
    "                else:\n",
    "                    # Found the optimal in previous iteration.\n",
    "                    break\n",
    "            # ghost_global has the global value with n_ghost agents added.\n",
    "            dpp_rewards[agent.agent_id] = np.sum(ghost_global - self.global_rewards)/(n_ghost_opti + 1.0)\n",
    "            \n",
    "        return np.maximum(dpp_rewards, difference_rewards)\n",
    "    \n",
    "    def step(self, joint_action):\n",
    "        # Take the joint_action\n",
    "        for agent in self.agents:\n",
    "            # Calculate displacement.\n",
    "            dx = 2 * agent.max_step * (joint_action[agent.agent_id, 0] - 0.5)\n",
    "            dy = 2 * agent.max_step * (joint_action[agent.agent_id, 1] - 0.5)\n",
    "\n",
    "            # Get new coordinates in world.\n",
    "            x = np.clip(agent.loc[0] + dx, 0, self.X - 1)\n",
    "            y = np.clip(agent.loc[1] + dy, 0, self.Y - 1)\n",
    "\n",
    "            # Move the agent to new position.\n",
    "            agent.move((x, y))\n",
    "\n",
    "        # Update Distance table.\n",
    "        self.update_distance_table()\n",
    "        \n",
    "        # Fetch new observations.\n",
    "        for agent in self.agents:\n",
    "            agent.scan_surrounding(self.agents, self.pois, self.distance_table)\n",
    "\n",
    "        # Calculate global reswards for the system after taking this step.\n",
    "        self.calc_global_reward()\n",
    "\n",
    "    def execute(self, epsilon, step,  reward_type=0):\n",
    "        joint_action = self.select_joint_action(epsilon)\n",
    "\n",
    "        self.step(joint_action)\n",
    "        rewards = np.zeros(self.n_agents)\n",
    "        match reward_type:\n",
    "            case 0:\n",
    "                # Global rewards\n",
    "                reward = np.full(self.n_agents, np.sum(self.global_rewards))\n",
    "            case 1:\n",
    "                # Difference rewards\n",
    "                reward = self.calc_difference_reward()\n",
    "                # print(\"Using Difference Rewards.\")\n",
    "            case 2:\n",
    "                # D++ rewards\n",
    "                reward = self.calc_difference_plus_plus()\n",
    "                # print(\"Using D++ Rewards.\")\n",
    "            case _:\n",
    "                print(\"Incorrect Reward code.\")\n",
    "                \n",
    "        for agent in self.agents:\n",
    "            agent.l_reward = reward[agent.agent_id]\n",
    "            agent.update_Qvalue()"
   ]
  },
  {
   "cell_type": "code",
   "execution_count": 8,
   "id": "c250d5ab-83b7-4d85-b5b1-8a6db2db8f37",
   "metadata": {
    "jupyter": {
     "source_hidden": true
    }
   },
   "outputs": [],
   "source": [
    "# def load_poi_config(n_pois, X, Y, radius, value, level, coupling):\n",
    "#     all_poi_params = np.zeros((n_pois, 6)) # (n_pois) X (poi_id, x_pos, y_pos, value, level, coupling)\n",
    "#     pois = np.empty(n_pois, dtype=object)\n",
    "#     for idx in range(n_pois):\n",
    "        # all_poi_params[idx, 0] = idx\n",
    "#         x = random.uniform(0, X - 1.0)\n",
    "#         y = random.uniform(0, Y - 1.0)\n",
    "\n",
    "#         too_close = True\n",
    "#         while too_close:\n",
    "#             count = 0\n",
    "#             for i in range(n_pois):\n",
    "#                 if i != idx:\n",
    "#                     x_dist = x - all_poi_params[idx, 1]\n",
    "#                     y_dist = y - all_poi_params[idx, 2]\n",
    "#                     dist_sq = x_dist** 2 + y_dist**2\n",
    "#                     min_dist_sq = (radius * 2.1)** 2\n",
    "#                     if dist_sq < min_dist_sq:\n",
    "#                         count += 1\n",
    "#             if count == 0:\n",
    "#                 too_close = False\n",
    "#             else:\n",
    "#                 x = random.uniform(0, X - 1.0)\n",
    "#                 y = random.uniform(0, Y - 1.0)\n",
    "#         all_poi_params[idx, 1] = x\n",
    "#         all_poi_params[idx, 2] = y\n",
    "#         all_poi_params[idx, 3] = value\n",
    "#         all_poi_params[idx, 4] = level\n",
    "#         all_poi_params[idx, 5] = coupling\n",
    "#         pois[idx] = POI(*all_poi_params[idx])\n",
    "#     for poi in pois:\n",
    "#         print(poi.poi_id, poi.loc, poi.val)\n",
    "\n",
    "# load_poi_config(2, 100.0, 100.0, 3, 100, 1, 2)"
   ]
  },
  {
   "cell_type": "code",
   "execution_count": 9,
   "id": "02582fd3-76b9-45d8-a1b7-aeded4fa3fee",
   "metadata": {},
   "outputs": [],
   "source": [
    "# p = parameters"
   ]
  },
  {
   "cell_type": "code",
   "execution_count": null,
   "id": "5a7c61c5-a096-4e7d-a3f8-7130da2d5527",
   "metadata": {
    "editable": true,
    "scrolled": true,
    "slideshow": {
     "slide_type": ""
    },
    "tags": []
   },
   "outputs": [
    {
     "name": "stdout",
     "output_type": "stream",
     "text": [
      "POI Configurations generated.\n",
      "Agent Configurations generated.\n",
      "Forest Ready.\n"
     ]
    },
    {
     "name": "stderr",
     "output_type": "stream",
     "text": [
      "Current Episode:   0%|          | 2/1000 [00:14<2:00:46,  7.26s/it]"
     ]
    },
    {
     "name": "stdout",
     "output_type": "stream",
     "text": [
      "[35.12121326047981, -1.0, -1.0, -1.0, -1.0, -1.0, -1.0, -1.0] : 2.3809179383155974 \n",
      "\n",
      "\n"
     ]
    },
    {
     "name": "stderr",
     "output_type": "stream",
     "text": [
      "Current Episode:   1%|          | 7/1000 [00:48<1:50:46,  6.69s/it]"
     ]
    },
    {
     "name": "stdout",
     "output_type": "stream",
     "text": [
      "[-1.0, -1.0, -1.0, -1.0, -1.0, -1.0, -1.0, -1.0] : 0.6933148292961346 \n",
      "\n",
      "\n",
      "[-1.0, -1.0, 55.46518634369077, -1.0, -1.0, -1.0, -1.0, -1.0] : 0.6274499205130019 \n",
      "\n",
      "\n",
      "[-1.0, -1.0, -1.0, -1.0, -1.0, -1.0, -1.0, -1.0] : 2.1909355266613164 \n",
      "\n",
      "\n",
      "[-1.0, -1.0, -1.0, 175.2748421329053, -1.0, -1.0, -1.0, -1.0] : 1.9827966516284914 \n",
      "\n",
      "\n"
     ]
    },
    {
     "name": "stderr",
     "output_type": "stream",
     "text": [
      "Current Episode:   1%|          | 10/1000 [01:07<1:46:53,  6.48s/it]"
     ]
    },
    {
     "name": "stdout",
     "output_type": "stream",
     "text": [
      "[-1.0, -1.0, -1.0, -1.0, -1.0, -1.0, -1.0, -1.0] : 5.192889694343491 \n",
      "\n",
      "\n",
      "[-1.0, -1.0, -1.0, 16.754050056562257, -1.0, -1.0, -1.0, -1.0] : 4.69956517338086 \n",
      "\n",
      "\n",
      "[-1.0, -1.0, -1.0, -1.0, -1.0, -1.0, -1.0, -1.0] : 4.69956517338086 \n",
      "\n",
      "\n",
      "[-1.0, -1.0, -1.0, -1.0, -1.0, -1.0, -1.0, -1.0] : 4.253106481909678 \n",
      "\n",
      "\n",
      "[-1.0, -1.0, -1.0, -1.0, -1.0, -1.0, -1.0, -1.0] : 3.8490613661282587 \n",
      "\n",
      "\n",
      "[-1.0, -1.0, -1.0, -1.0, -1.0, -1.0, -1.0, -1.0] : 3.483400536346074 \n",
      "\n",
      "\n",
      "[-1.0, -1.0, -1.0, -1.0, -1.0, -1.0, -1.0, -1.0] : 3.152477485393197 \n",
      "\n",
      "\n",
      "[-1.0, -1.0, -1.0, -1.0, -1.0, -1.0, -1.0, -1.0] : 2.8529921242808434 \n",
      "\n",
      "\n",
      "[-1.0, -1.0, -1.0, -1.0, -1.0, -1.0, -1.0, -1.0] : 2.581957872474163 \n",
      "\n",
      "\n",
      "[-1.0, -1.0, -1.0, -1.0, -1.0, -1.0, -1.0, -1.0] : 2.3366718745891175 \n",
      "\n",
      "\n",
      "[-1.0, -1.0, -1.0, -1.0, -1.0, -1.0, -1.0, -1.0] : 2.1146880465031512 \n",
      "\n",
      "\n",
      "[-1.0, -1.0, -1.0, -1.0, -1.0, -1.0, -1.0, -1.0] : 1.913792682085352 \n",
      "\n",
      "\n",
      "[-1.0, -1.0, -1.0, -1.0, -1.0, -1.0, -1.0, -1.0] : 1.7319823772872436 \n",
      "\n",
      "\n",
      "[-1.0, -1.0, -1.0, -1.0, -1.0, -1.0, -1.0, -1.0] : 1.5674440514449555 \n",
      "\n",
      "\n",
      "[-1.0, -1.0, -1.0, -1.0, -1.0, -1.0, -1.0, -1.0] : 1.4185368665576847 \n",
      "\n",
      "\n",
      "[-1.0, -1.0, -1.0, -1.0, -1.0, -1.0, -1.0, -1.0] : 1.2837758642347046 \n",
      "\n",
      "\n",
      "[-1.0, -1.0, -1.0, -1.0, -1.0, -1.0, -1.0, -1.0] : 1.1618171571324076 \n",
      "\n",
      "\n"
     ]
    },
    {
     "name": "stderr",
     "output_type": "stream",
     "text": [
      "Current Episode:   1%|          | 12/1000 [01:19<1:46:10,  6.45s/it]"
     ]
    },
    {
     "name": "stdout",
     "output_type": "stream",
     "text": [
      "[-1.0, 27.619102950495538, -1.0, -1.0, -1.0, -1.0, -1.0, -1.0] : 0.7394387962920088 \n",
      "\n",
      "\n"
     ]
    },
    {
     "name": "stderr",
     "output_type": "stream",
     "text": [
      "Current Episode:   1%|▏         | 14/1000 [01:32<1:45:52,  6.44s/it]"
     ]
    },
    {
     "name": "stdout",
     "output_type": "stream",
     "text": [
      "[-1.0, 36.74486906229066, -1.0, -1.0, -1.0, -1.0, -1.0, -1.0] : 0.7803009905641018 \n",
      "\n",
      "\n"
     ]
    },
    {
     "name": "stderr",
     "output_type": "stream",
     "text": [
      "Current Episode:   2%|▏         | 23/1000 [02:30<1:44:52,  6.44s/it]"
     ]
    },
    {
     "name": "stdout",
     "output_type": "stream",
     "text": [
      "[-1.0, -1.0, -1.0, -1.0, -1.0, -1.0, -1.0, -1.0] : 0.638696122347892 \n",
      "\n",
      "\n",
      "[-1.0, -1.0, -1.0, 35.66350157518318, -1.0, -1.0, -1.0, -1.0] : 0.5780199907248422 \n",
      "\n",
      "\n",
      "[-1.0, -1.0, -1.0, -1.0, -1.0, -1.0, -1.0, -1.0] : 0.5780199907248422 \n",
      "\n",
      "\n",
      "[-1.0, -1.0, -1.0, -1.0, -1.0, -1.0, -1.0, -1.0] : 0.5231080916059823 \n",
      "\n",
      "\n",
      "[-1.0, -1.0, -1.0, -1.0, -1.0, -1.0, -1.0, -1.0] : 0.47341282290341397 \n",
      "\n",
      "\n",
      "[-1.0, -1.0, -1.0, -1.0, -1.0, -1.0, -1.0, -1.0] : 0.42843860472758966 \n",
      "\n",
      "\n",
      "[-1.0, -1.0, -1.0, -1.0, -1.0, -1.0, -1.0, -1.0] : 0.38773693727846864 \n",
      "\n",
      "\n",
      "[-1.0, -1.0, -1.0, -1.0, -1.0, -1.0, -1.0, -1.0] : 0.3509019282370141 \n",
      "\n",
      "\n",
      "[-1.0, -1.0, -1.0, -1.0, -1.0, -1.0, -1.0, -1.0] : 0.31756624505449776 \n",
      "\n",
      "\n",
      "[-1.0, -1.0, -1.0, -1.0, -1.0, -1.0, -1.0, -1.0] : 0.28739745177432047 \n",
      "\n",
      "\n",
      "[-1.0, -1.0, -1.0, -1.0, -1.0, -1.0, -1.0, -1.0] : 0.26009469385576 \n",
      "\n",
      "\n",
      "[-1.0, -1.0, -1.0, -1.0, -1.0, -1.0, -1.0, -1.0] : 0.2353856979394628 \n",
      "\n",
      "\n"
     ]
    },
    {
     "name": "stderr",
     "output_type": "stream",
     "text": [
      "Current Episode:   3%|▎         | 27/1000 [02:56<1:43:11,  6.36s/it]"
     ]
    },
    {
     "name": "stdout",
     "output_type": "stream",
     "text": [
      "[14.9270112835441, -1.0, -1.0, -1.0, -1.0, -1.0, -1.0, -1.0] : 5.5842858580174335 \n",
      "\n",
      "\n"
     ]
    },
    {
     "name": "stderr",
     "output_type": "stream",
     "text": [
      "Current Episode:   3%|▎         | 30/1000 [03:15<1:42:41,  6.35s/it]"
     ]
    },
    {
     "name": "stdout",
     "output_type": "stream",
     "text": [
      "[-1.0, -1.0, -1.0, -1.0, -1.0, 0.487956946258278, -1.0, -1.0] : 0.642049787762647 \n",
      "\n",
      "\n"
     ]
    },
    {
     "name": "stderr",
     "output_type": "stream",
     "text": [
      "Current Episode:   3%|▎         | 33/1000 [03:33<1:41:20,  6.29s/it]"
     ]
    },
    {
     "name": "stdout",
     "output_type": "stream",
     "text": [
      "[13.850407735210059, -1.0, -1.0, -1.0, 0.12716184206416442, -1.0, -1.0, -1.0] : 0.5705810319816237 \n",
      "\n",
      "\n"
     ]
    },
    {
     "name": "stderr",
     "output_type": "stream",
     "text": [
      "Current Episode:   4%|▎         | 36/1000 [03:52<1:39:19,  6.18s/it]"
     ]
    },
    {
     "name": "stdout",
     "output_type": "stream",
     "text": [
      "[-1.0, 20.273778075363285, -1.0, -1.0, -1.0, -1.0, -1.0, 0.11508061439990472] : 3.529675476380242 \n",
      "\n",
      "\n"
     ]
    },
    {
     "name": "stderr",
     "output_type": "stream",
     "text": [
      "Current Episode:   4%|▍         | 39/1000 [04:11<1:39:18,  6.20s/it]"
     ]
    },
    {
     "name": "stdout",
     "output_type": "stream",
     "text": [
      "[-1.0, -1.0, -1.0, 20.63284605470656, -1.0, -1.0, -1.0, -1.0] : 0.665511253139716 \n",
      "\n",
      "\n"
     ]
    },
    {
     "name": "stderr",
     "output_type": "stream",
     "text": [
      "Current Episode:   4%|▍         | 43/1000 [04:35<1:38:04,  6.15s/it]"
     ]
    },
    {
     "name": "stdout",
     "output_type": "stream",
     "text": [
      "[-1.0, -1.0, -1.0, -1.0, -1.0, -1.0, 0.43554401186857644, -1.0] : 0.6193596534478101 \n",
      "\n",
      "\n"
     ]
    },
    {
     "name": "stderr",
     "output_type": "stream",
     "text": [
      "Current Episode:   6%|▌         | 55/1000 [05:50<1:38:20,  6.24s/it]"
     ]
    },
    {
     "name": "stdout",
     "output_type": "stream",
     "text": [
      "[-1.0, -1.0, -1.0, 16.355331095615618, -1.0, -1.0, -1.0, -1.0] : 0.635774617076552 \n",
      "\n",
      "\n"
     ]
    },
    {
     "name": "stderr",
     "output_type": "stream",
     "text": [
      "Current Episode:   6%|▋         | 63/1000 [06:40<1:38:57,  6.34s/it]"
     ]
    },
    {
     "name": "stdout",
     "output_type": "stream",
     "text": [
      "[-1.0, -1.0, 14.601862948342793, -1.0, 2.690401992068353, -1.0, -1.0, -1.0] : 1.743796732910256 \n",
      "\n",
      "\n",
      "[-1.0, -1.0, -1.0, 28.461233367049623, -1.0, -1.0, -1.0, -1.0] : 4.788307184063351 \n",
      "\n",
      "\n"
     ]
    },
    {
     "name": "stderr",
     "output_type": "stream",
     "text": [
      "Current Episode:   7%|▋         | 73/1000 [07:43<1:37:16,  6.30s/it]"
     ]
    },
    {
     "name": "stdout",
     "output_type": "stream",
     "text": [
      "[-1.0, -1.0, -1.0, -1.0, -1.0, -1.0, -1.0, -1.0] : 1.282404141409592 \n",
      "\n",
      "\n",
      "[-1.0, 102.59233131276734, -1.0, -1.0, -1.0, -1.0, -1.0, -1.0] : 0.6693320356466166 \n",
      "\n",
      "\n",
      "[-1.0, -1.0, 53.54656285172933, -1.0, -1.0, -1.0, -1.0, -1.0] : 1.1605757479756806 \n",
      "\n",
      "\n",
      "[-1.0, -1.0, -1.0, -1.0, -1.0, -1.0, -1.0, -1.0] : 1.1605757479756806 \n",
      "\n",
      "\n",
      "[-1.0, -1.0, -1.0, -1.0, -1.0, -1.0, -1.0, -1.0] : 1.050321051917991 \n",
      "\n",
      "\n",
      "[-1.0, -1.0, -1.0, -1.0, -1.0, -1.0, -1.0, -1.0] : 0.9505405519857819 \n",
      "\n",
      "\n",
      "[-1.0, -1.0, -1.0, -1.0, -1.0, -1.0, -1.0, -1.0] : 0.8602391995471326 \n",
      "\n",
      "\n",
      "[-1.0, -1.0, -1.0, -1.0, -1.0, -1.0, -1.0, -1.0] : 0.778516475590155 \n",
      "\n",
      "\n",
      "[-1.0, -1.0, -1.0, -1.0, -1.0, -1.0, -1.0, -1.0] : 0.7045574104090903 \n",
      "\n",
      "\n",
      "[-1.0, -1.0, -1.0, -1.0, -1.0, -1.0, -1.0, -1.0] : 0.6376244564202267 \n",
      "\n",
      "\n",
      "[-1.0, -1.0, -1.0, -1.0, -1.0, -1.0, -1.0, -1.0] : 0.5770501330603052 \n",
      "\n",
      "\n",
      "[-1.0, -1.0, -1.0, -1.0, -1.0, -1.0, -1.0, -1.0] : 0.5222303704195762 \n",
      "\n",
      "\n",
      "[-1.0, -1.0, -1.0, -1.0, -1.0, -1.0, -1.0, -1.0] : 0.47261848522971645 \n",
      "\n",
      "\n"
     ]
    },
    {
     "name": "stderr",
     "output_type": "stream",
     "text": [
      "Current Episode:   8%|▊         | 76/1000 [08:02<1:35:50,  6.22s/it]"
     ]
    },
    {
     "name": "stdout",
     "output_type": "stream",
     "text": [
      "[13.58345020733534, -1.0, -1.0, -1.0, -1.0, -1.0, -1.0, -1.0] : 0.9302817198640808 \n",
      "\n",
      "\n"
     ]
    },
    {
     "name": "stderr",
     "output_type": "stream",
     "text": [
      "Current Episode:   8%|▊         | 80/1000 [08:28<1:37:36,  6.37s/it]"
     ]
    },
    {
     "name": "stdout",
     "output_type": "stream",
     "text": [
      "[-1.0, -1.0, -1.0, -1.0, -1.0, -1.0, -1.0, -1.0] : 0.6497047430391403 \n",
      "\n",
      "\n",
      "[-1.0, -1.0, -1.0, 51.97637944313122, -1.0, -1.0, -1.0, -1.0] : 0.587982792450422 \n",
      "\n",
      "\n",
      "[-1.0, -1.0, -1.0, -1.0, -1.0, -1.0, -1.0, -1.0] : 0.587982792450422 \n",
      "\n",
      "\n"
     ]
    },
    {
     "name": "stderr",
     "output_type": "stream",
     "text": [
      "Current Episode:   8%|▊         | 83/1000 [08:47<1:37:28,  6.38s/it]"
     ]
    },
    {
     "name": "stdout",
     "output_type": "stream",
     "text": [
      "[-1.0, -1.0, -1.0, -1.0, -1.0, -1.0, -1.0, -1.0] : 0.7007398118676957 \n",
      "\n",
      "\n",
      "[56.05918494941565, -1.0, -1.0, -1.0, -1.0, -1.0, -1.0, -1.0] : 0.6341695297402646 \n",
      "\n",
      "\n",
      "[-1.0, -1.0, -1.0, -1.0, -1.0, -1.0, -1.0, -1.0] : 0.6341695297402646 \n",
      "\n",
      "\n",
      "[-1.0, -1.0, -1.0, -1.0, -1.0, -1.0, -1.0, -1.0] : 0.5739234244149395 \n",
      "\n",
      "\n",
      "[-1.0, -1.0, -1.0, -1.0, -1.0, -1.0, -1.0, -1.0] : 0.5194006990955202 \n",
      "\n",
      "\n",
      "[-1.0, -1.0, -1.0, -1.0, -1.0, -1.0, -1.0, -1.0] : 0.4700576326814458 \n",
      "\n",
      "\n",
      "[-1.0, -1.0, -1.0, -1.0, -1.0, -1.0, -1.0, -1.0] : 0.42540215757670846 \n",
      "\n",
      "\n",
      "[-1.0, -1.0, -1.0, -1.0, -1.0, -1.0, -1.0, -1.0] : 0.3849889526069212 \n",
      "\n",
      "\n",
      "[-1.0, -1.0, -1.0, -1.0, -1.0, -1.0, -1.0, -1.0] : 0.3484150021092637 \n",
      "\n",
      "\n",
      "[-1.0, -1.0, -1.0, -1.0, -1.0, -1.0, -1.0, -1.0] : 0.3153155769088836 \n",
      "\n",
      "\n",
      "[-1.0, -1.0, -1.0, -1.0, -1.0, -1.0, -1.0, -1.0] : 0.2853605971025397 \n",
      "\n",
      "\n",
      "[-1.0, -1.0, -1.0, -1.0, -1.0, -1.0, -1.0, -1.0] : 0.2582513403777984 \n",
      "\n",
      "\n",
      "[-1.0, -1.0, -1.0, -1.0, -1.0, -1.0, -1.0, -1.0] : 0.23371746304190755 \n",
      "\n",
      "\n",
      "[-1.0, -1.0, -1.0, -1.0, -1.0, -1.0, -1.0, -1.0] : 0.21151430405292632 \n",
      "\n",
      "\n",
      "[-1.0, -1.0, -1.0, -1.0, -1.0, -1.0, -1.0, -1.0] : 0.1914204451678983 \n",
      "\n",
      "\n",
      "[-1.0, -1.0, -1.0, -1.0, -1.0, -1.0, -1.0, -1.0] : 0.17323550287694797 \n",
      "\n",
      "\n",
      "[-1.0, -1.0, -1.0, -1.0, -1.0, -1.0, -1.0, -1.0] : 0.15677813010363792 \n",
      "\n",
      "\n",
      "[-1.0, -1.0, -1.0, -1.0, -1.0, -1.0, -1.0, -1.0] : 0.14188420774379232 \n",
      "\n",
      "\n",
      "[-1.0, -1.0, -1.0, -1.0, -1.0, -1.0, -1.0, -1.0] : 0.12840520800813204 \n",
      "\n",
      "\n",
      "[-1.0, -1.0, -1.0, -1.0, -1.0, -1.0, -1.0, -1.0] : 0.1162067132473595 \n",
      "\n",
      "\n",
      "[-1.0, -1.0, -1.0, -1.0, -1.0, -1.0, -1.0, -1.0] : 0.10516707548886034 \n",
      "\n",
      "\n",
      "[-1.0, -1.0, -1.0, -1.0, -1.0, -1.0, -1.0, -1.0] : 0.0951762033174186 \n",
      "\n",
      "\n",
      "[-1.0, -1.0, -1.0, -1.0, -1.0, -1.0, -1.0, -1.0] : 0.08613446400226384 \n",
      "\n",
      "\n",
      "[-1.0, -1.0, -1.0, -1.0, -1.0, -1.0, -1.0, -1.0] : 0.07795168992204878 \n",
      "\n",
      "\n",
      "[-1.0, -1.0, -1.0, -1.0, -1.0, -1.0, -1.0, -1.0] : 0.07054627937945414 \n",
      "\n",
      "\n",
      "[-1.0, -1.0, -1.0, -1.0, -1.0, -1.0, -1.0, -1.0] : 0.06384438283840599 \n",
      "\n",
      "\n"
     ]
    },
    {
     "name": "stderr",
     "output_type": "stream",
     "text": [
      "Current Episode:   8%|▊         | 84/1000 [08:53<1:36:51,  6.34s/it]"
     ]
    },
    {
     "name": "stdout",
     "output_type": "stream",
     "text": [
      "[-1.0, -1.0, -1.0, -1.0, -1.0, -1.0, -1.0, -1.0] : 3.074319453547341 \n",
      "\n",
      "\n",
      "[-1.0, -1.0, 20.143474650065542, -1.0, -1.0, -1.0, -1.0, -1.0] : 2.782259105460344 \n",
      "\n",
      "\n"
     ]
    },
    {
     "name": "stderr",
     "output_type": "stream",
     "text": [
      "Current Episode:   8%|▊         | 85/1000 [08:59<1:36:11,  6.31s/it]"
     ]
    },
    {
     "name": "stdout",
     "output_type": "stream",
     "text": [
      "[-1.0, -1.0, -1.0, -1.0, -1.0, -1.0, -1.0, -1.0] : 0.7168293589668359 \n",
      "\n",
      "\n",
      "[-1.0, -1.0, 57.34634871734686, -1.0, -1.0, -1.0, -1.0, -1.0] : 0.6487305698649865 \n",
      "\n",
      "\n",
      "[-1.0, -1.0, -1.0, -1.0, -1.0, -1.0, -1.0, -1.0] : 0.6487305698649865 \n",
      "\n",
      "\n"
     ]
    },
    {
     "name": "stderr",
     "output_type": "stream",
     "text": [
      "Current Episode:   9%|▉         | 88/1000 [09:18<1:34:41,  6.23s/it]"
     ]
    },
    {
     "name": "stdout",
     "output_type": "stream",
     "text": [
      "[-1.0, -1.0, -1.0, -1.0, -1.0, -1.0, -1.0, -1.0] : 0.5776803837347326 \n",
      "\n",
      "\n",
      "[-1.0, -1.0, 11.564035455304785, -1.0, -1.0, -1.0, -1.0, -1.0] : 0.522800747279933 \n",
      "\n",
      "\n"
     ]
    },
    {
     "name": "stderr",
     "output_type": "stream",
     "text": [
      "Current Episode:   9%|▉         | 90/1000 [09:30<1:33:38,  6.17s/it]"
     ]
    },
    {
     "name": "stdout",
     "output_type": "stream",
     "text": [
      "[-1.0, 11.620629691499321, -1.0, -1.0, -1.0, -1.0, -1.0, -1.0] : 0.6267814437273281 \n",
      "\n",
      "\n"
     ]
    },
    {
     "name": "stderr",
     "output_type": "stream",
     "text": [
      "Current Episode:   9%|▉         | 91/1000 [09:36<1:33:45,  6.19s/it]"
     ]
    },
    {
     "name": "stdout",
     "output_type": "stream",
     "text": [
      "[-1.0, -1.0, -1.0, -1.0, -1.0, -1.0, 35.431682742124416, -1.0] : 0.6698342108051244 \n",
      "\n",
      "\n"
     ]
    },
    {
     "name": "stderr",
     "output_type": "stream",
     "text": [
      "Current Episode:  10%|▉         | 99/1000 [10:26<1:33:44,  6.24s/it]"
     ]
    },
    {
     "name": "stdout",
     "output_type": "stream",
     "text": [
      "[11.33587550713456, -1.0, -1.0, -1.0, -1.0, -1.0, -1.0, -1.0] : 1.3474212654678859 \n",
      "\n",
      "\n",
      "[107.79370123743088, -1.0, -1.0, -1.0, -1.0, -1.0, -1.0, -1.0] : 0.614599342464186 \n",
      "\n",
      "\n"
     ]
    },
    {
     "name": "stderr",
     "output_type": "stream",
     "text": [
      "Current Episode:  10%|█         | 100/1000 [10:33<1:35:24,  6.36s/it]"
     ]
    },
    {
     "name": "stdout",
     "output_type": "stream",
     "text": [
      "[-1.0, -1.0, -1.0, -1.0, -1.0, -1.0, -1.0, -1.0] : 1.456163293678068 \n",
      "\n",
      "\n",
      "[-1.0, 116.49306349424543, -1.0, -1.0, -1.0, -1.0, -1.0, -1.0] : 0.8072696060596508 \n",
      "\n",
      "\n",
      "[-1.0, -1.0, 64.58156848477206, -1.0, -1.0, -1.0, -1.0, -1.0] : 1.3178277807786516 \n",
      "\n",
      "\n"
     ]
    },
    {
     "name": "stderr",
     "output_type": "stream",
     "text": [
      "Current Episode:  10%|█         | 102/1000 [10:46<1:35:43,  6.40s/it]"
     ]
    },
    {
     "name": "stdout",
     "output_type": "stream",
     "text": [
      "[-1.0, -1.0, -1.0, -1.0, -1.0, -1.0, -1.0, -1.0] : 1.4148510325726484 \n",
      "\n",
      "\n",
      "[-1.0, -1.0, -1.0, 32.4169944526755, -1.0, -1.0, -1.0, -1.0] : 1.280440184478247 \n",
      "\n",
      "\n"
     ]
    },
    {
     "name": "stderr",
     "output_type": "stream",
     "text": [
      "Current Episode:  10%|█         | 103/1000 [10:52<1:35:10,  6.37s/it]"
     ]
    },
    {
     "name": "stdout",
     "output_type": "stream",
     "text": [
      "[-1.0, 17.989310811074613, -1.0, -1.0, -1.0, -1.0, -1.0, -1.0] : 0.746872958350381 \n",
      "\n",
      "\n"
     ]
    },
    {
     "name": "stderr",
     "output_type": "stream",
     "text": [
      "Current Episode:  11%|█         | 108/1000 [11:23<1:31:17,  6.14s/it]"
     ]
    },
    {
     "name": "stdout",
     "output_type": "stream",
     "text": [
      "[11.12649194584402, -1.0, -1.0, -1.0, -1.0, -1.0, -1.0, -1.0] : 1.0352330618967576 \n",
      "\n",
      "\n"
     ]
    },
    {
     "name": "stderr",
     "output_type": "stream",
     "text": [
      "Current Episode:  11%|█         | 109/1000 [11:29<1:31:34,  6.17s/it]"
     ]
    },
    {
     "name": "stdout",
     "output_type": "stream",
     "text": [
      "[-1.0, -1.0, -1.0, -1.0, -1.0, -1.0, -1.0, -1.0] : 0.7511936554739678 \n",
      "\n",
      "\n",
      "[-1.0, -1.0, 60.09549243791742, -1.0, -1.0, -1.0, -1.0, -1.0] : 0.6798302582039408 \n",
      "\n",
      "\n",
      "[-1.0, -1.0, -1.0, -1.0, -1.0, -1.0, -1.0, -1.0] : 0.6798302582039408 \n",
      "\n",
      "\n",
      "[-1.0, -1.0, -1.0, -1.0, -1.0, -1.0, -1.0, -1.0] : 0.6152463836745664 \n",
      "\n",
      "\n",
      "[-1.0, -1.0, -1.0, -1.0, -1.0, -1.0, -1.0, -1.0] : 0.5567979772254826 \n",
      "\n",
      "\n",
      "[-1.0, -1.0, -1.0, -1.0, -1.0, -1.0, -1.0, -1.0] : 0.5039021693890617 \n",
      "\n",
      "\n",
      "[-1.0, -1.0, -1.0, -1.0, -1.0, -1.0, -1.0, -1.0] : 0.45603146329710087 \n",
      "\n",
      "\n",
      "[-1.0, -1.0, -1.0, -1.0, -1.0, -1.0, -1.0, -1.0] : 0.4127084742838763 \n",
      "\n",
      "\n",
      "[18.917118419515155, -1.0, -1.0, -1.0, -1.0, -1.0, -1.0, -1.0] : 6.120398833527073 \n",
      "\n",
      "\n"
     ]
    },
    {
     "name": "stderr",
     "output_type": "stream",
     "text": [
      "Current Episode:  11%|█         | 111/1000 [11:41<1:32:12,  6.22s/it]"
     ]
    },
    {
     "name": "stdout",
     "output_type": "stream",
     "text": [
      "[-1.0, 21.425283241621432, -1.0, -1.0, -1.0, -1.0, -1.0, -1.0] : 0.5828120372260502 \n",
      "\n",
      "\n",
      "[-1.0, -1.0, -1.0, -1.0, -1.0, -1.0, -1.0, -1.0] : 0.7244545686148415 \n",
      "\n",
      "\n",
      "[-1.0, -1.0, -1.0, 12.016451721933727, -1.0, -1.0, -1.0, -1.0] : 0.6556313845964316 \n",
      "\n",
      "\n"
     ]
    },
    {
     "name": "stderr",
     "output_type": "stream",
     "text": [
      "Current Episode:  12%|█▏        | 117/1000 [12:19<1:34:05,  6.39s/it]"
     ]
    },
    {
     "name": "stdout",
     "output_type": "stream",
     "text": [
      "[-1.0, -1.0, -1.0, -1.0, -1.0, -1.0, -1.0, -1.0] : 0.9658259261309392 \n",
      "\n",
      "\n",
      "[-1.0, 77.26607409047513, -1.0, -1.0, -1.0, -1.0, -1.0, -1.0] : 1.2529154617053702 \n",
      "\n",
      "\n",
      "[-1.0, -1.0, -1.0, 14.696065990729197, -1.0, -1.0, -1.0, -1.0] : 0.8740724631485 \n",
      "\n",
      "\n"
     ]
    },
    {
     "name": "stderr",
     "output_type": "stream",
     "text": [
      "Current Episode:  12%|█▏        | 120/1000 [12:38<1:32:56,  6.34s/it]"
     ]
    },
    {
     "name": "stdout",
     "output_type": "stream",
     "text": [
      "[-1.0, -1.0, -1.0, -1.0, -1.0, -1.0, -1.0, -1.0] : 1.5321474506882886 \n",
      "\n",
      "\n",
      "[-1.0, 122.57179605506309, -1.0, -1.0, -1.0, -1.0, -1.0, -1.0] : 0.759075086359226 \n",
      "\n",
      "\n",
      "[-1.0, -1.0, 60.72600690873807, -1.0, -1.0, -1.0, -1.0, -1.0] : 1.3865934428729012 \n",
      "\n",
      "\n"
     ]
    },
    {
     "name": "stderr",
     "output_type": "stream",
     "text": [
      "Current Episode:  12%|█▏        | 121/1000 [12:45<1:33:26,  6.38s/it]"
     ]
    },
    {
     "name": "stdout",
     "output_type": "stream",
     "text": [
      "[-1.0, -1.0, -1.0, -1.0, -1.0, -1.0, -1.0, -1.0] : 2.041726314325252 \n",
      "\n",
      "\n",
      "[-1.0, -1.0, -1.0, 12.807934331734929, -1.0, -1.0, -1.0, -1.0] : 1.8477623144643531 \n",
      "\n",
      "\n",
      "[-1.0, -1.0, -1.0, -1.0, -1.0, -1.0, -1.0, -1.0] : 1.8477623144643531 \n",
      "\n",
      "\n",
      "[-1.0, -1.0, -1.0, -1.0, -1.0, -1.0, -1.0, -1.0] : 1.6722248945902396 \n",
      "\n",
      "\n",
      "[-1.0, -1.0, -1.0, -1.0, -1.0, -1.0, -1.0, -1.0] : 1.5133635296041668 \n",
      "\n",
      "\n",
      "[-1.0, -1.0, -1.0, -1.0, -1.0, -1.0, -1.0, -1.0] : 1.369593994291771 \n",
      "\n",
      "\n",
      "[-1.0, -1.0, -1.0, -1.0, -1.0, -1.0, -1.0, -1.0] : 1.2394825648340528 \n",
      "\n",
      "\n",
      "[-1.0, -1.0, -1.0, -1.0, -1.0, -1.0, -1.0, -1.0] : 1.121731721174818 \n",
      "\n",
      "\n",
      "[-1.0, -1.0, -1.0, -1.0, -1.0, -1.0, -1.0, -1.0] : 1.0151672076632101 \n",
      "\n",
      "\n",
      "[-1.0, -1.0, -1.0, -1.0, -1.0, -1.0, -1.0, -1.0] : 0.9187263229352052 \n",
      "\n",
      "\n",
      "[-1.0, -1.0, -1.0, -1.0, -1.0, -1.0, -1.0, -1.0] : 0.8314473222563606 \n",
      "\n",
      "\n",
      "[-1.0, -1.0, -1.0, -1.0, -1.0, -1.0, -1.0, -1.0] : 0.7524598266420064 \n",
      "\n",
      "\n",
      "[-1.0, -1.0, -1.0, -1.0, -1.0, -1.0, -1.0, -1.0] : 0.6809761431110157 \n",
      "\n",
      "\n",
      "[-1.0, -1.0, -1.0, -1.0, -1.0, -1.0, -1.0, -1.0] : 0.6162834095154692 \n",
      "\n",
      "\n"
     ]
    },
    {
     "name": "stderr",
     "output_type": "stream",
     "text": [
      "Current Episode:  12%|█▏        | 124/1000 [13:04<1:32:38,  6.35s/it]"
     ]
    },
    {
     "name": "stdout",
     "output_type": "stream",
     "text": [
      "[-1.0, 11.708770252983543, -1.0, -1.0, -1.0, -1.0, -1.0, -1.0] : 1.2492676281314026 \n",
      "\n",
      "\n"
     ]
    },
    {
     "name": "stderr",
     "output_type": "stream",
     "text": [
      "Current Episode:  13%|█▎        | 128/1000 [13:29<1:31:08,  6.27s/it]"
     ]
    },
    {
     "name": "stdout",
     "output_type": "stream",
     "text": [
      "[20.24309440331268, -1.0, -1.0, -1.0, -1.0, -1.0, -1.0, -1.0] : 3.378849471783796 \n",
      "\n",
      "\n"
     ]
    },
    {
     "name": "stderr",
     "output_type": "stream",
     "text": [
      "Current Episode:  13%|█▎        | 129/1000 [13:35<1:31:36,  6.31s/it]"
     ]
    },
    {
     "name": "stdout",
     "output_type": "stream",
     "text": [
      "[-1.0, 14.09607919619728, -1.0, -1.0, -1.0, -1.0, -1.0, -1.0] : 0.9631916260845028 \n",
      "\n",
      "\n"
     ]
    },
    {
     "name": "stderr",
     "output_type": "stream",
     "text": [
      "Current Episode:  13%|█▎        | 132/1000 [13:54<1:31:00,  6.29s/it]"
     ]
    },
    {
     "name": "stdout",
     "output_type": "stream",
     "text": [
      "[14.37343235148298, -1.0, -1.0, -1.0, 0.1137041720884715, -1.0, -1.0, -1.0] : 4.654597464207184 \n",
      "\n",
      "\n",
      "[-1.0, -1.0, -1.0, 18.605803825967186, -1.0, -1.0, -1.0, -1.0] : 0.7514937357613145 \n",
      "\n",
      "\n"
     ]
    },
    {
     "name": "stderr",
     "output_type": "stream",
     "text": [
      "Current Episode:  14%|█▍        | 139/1000 [14:38<1:30:24,  6.30s/it]"
     ]
    },
    {
     "name": "stdout",
     "output_type": "stream",
     "text": [
      "[-1.0, -1.0, -1.0, -1.0, -1.0, -1.0, -1.0, -1.0] : 0.6268444540525222 \n",
      "\n",
      "\n",
      "[-1.0, -1.0, 31.69333975437685, -1.0, -1.0, -1.0, -1.0, -1.0] : 0.5672942309175326 \n",
      "\n",
      "\n",
      "[-1.0, -1.0, -1.0, -1.0, -1.0, -1.0, -1.0, -1.0] : 0.5672942309175326 \n",
      "\n",
      "\n",
      "[-1.0, -1.0, -1.0, -1.0, -1.0, -1.0, -1.0, -1.0] : 0.513401278980367 \n",
      "\n",
      "\n",
      "[-1.0, -1.0, -1.0, -1.0, -1.0, -1.0, -1.0, -1.0] : 0.4646281574772322 \n",
      "\n",
      "\n",
      "[-1.0, -1.0, -1.0, -1.0, -1.0, -1.0, -1.0, -1.0] : 0.42048848251689513 \n",
      "\n",
      "\n",
      "[-1.0, -1.0, -1.0, -1.0, -1.0, -1.0, -1.0, -1.0] : 0.3805420766777901 \n",
      "\n",
      "\n",
      "[-1.0, -1.0, -1.0, -1.0, -1.0, -1.0, -1.0, -1.0] : 0.34439057939340006 \n",
      "\n",
      "\n",
      "[-1.0, -1.0, -1.0, -1.0, -1.0, -1.0, -1.0, -1.0] : 0.31167347435102705 \n",
      "\n",
      "\n",
      "[-1.0, -1.0, -1.0, -1.0, -1.0, -1.0, -1.0, -1.0] : 0.2820644942876795 \n",
      "\n",
      "\n",
      "[-1.0, -1.0, -1.0, -1.0, -1.0, -1.0, -1.0, -1.0] : 0.25526836733034997 \n",
      "\n",
      "\n",
      "[-1.0, -1.0, -1.0, -1.0, -1.0, -1.0, -1.0, -1.0] : 0.2310178724339667 \n",
      "\n",
      "\n",
      "[-1.0, -1.0, -1.0, -1.0, -1.0, -1.0, -1.0, -1.0] : 0.20907117455273988 \n",
      "\n",
      "\n"
     ]
    },
    {
     "name": "stderr",
     "output_type": "stream",
     "text": [
      "Current Episode:  15%|█▌        | 152/1000 [15:58<1:26:51,  6.15s/it]"
     ]
    },
    {
     "name": "stdout",
     "output_type": "stream",
     "text": [
      "[-1.0, -1.0, -1.0, -1.0, -1.0, -1.0, -1.0, -1.0] : 1.7486354814638052 \n",
      "\n",
      "\n",
      "[-1.0, -1.0, -1.0, 27.026991401026965, -1.0, -1.0, -1.0, -1.0] : 1.5825151107247437 \n",
      "\n",
      "\n",
      "[-1.0, 11.442990503807634, -1.0, -1.0, -1.0, -1.0, -1.0, -1.0] : 3.5302909927525934 \n",
      "\n",
      "\n"
     ]
    },
    {
     "name": "stderr",
     "output_type": "stream",
     "text": [
      "Current Episode:  15%|█▌        | 153/1000 [16:04<1:26:52,  6.15s/it]"
     ]
    },
    {
     "name": "stdout",
     "output_type": "stream",
     "text": [
      "[-1.0, -1.0, -1.0, -1.0, -1.0, -1.0, -1.0, -1.0] : 12.115813030060693 \n",
      "\n",
      "\n",
      "[-1.0, 969.2650424048554, -1.0, -1.0, -1.0, -1.0, -1.0, -1.0] : 10.964810792204927 \n",
      "\n",
      "\n",
      "[-1.0, -1.0, -1.0, -1.0, -1.0, -1.0, -1.0, -1.0] : 10.964810792204927 \n",
      "\n",
      "\n",
      "[-1.0, -1.0, -1.0, -1.0, -1.0, -1.0, -1.0, -1.0] : 9.92315376694546 \n",
      "\n",
      "\n",
      "[-1.0, -1.0, -1.0, -1.0, -1.0, -1.0, -1.0, -1.0] : 8.98045415908564 \n",
      "\n",
      "\n",
      "[-1.0, -1.0, -1.0, -1.0, -1.0, -1.0, -1.0, -1.0] : 8.127311013972506 \n",
      "\n",
      "\n",
      "[-1.0, -1.0, -1.0, -1.0, -1.0, -1.0, -1.0, -1.0] : 7.355216467645118 \n",
      "\n",
      "\n",
      "[-1.0, -1.0, -1.0, -1.0, -1.0, -1.0, -1.0, -1.0] : 6.656470903218832 \n",
      "\n",
      "\n",
      "[-1.0, -1.0, -1.0, -1.0, -1.0, -1.0, -1.0, -1.0] : 6.024106167413043 \n",
      "\n",
      "\n",
      "[-1.0, -1.0, -1.0, -1.0, -1.0, -1.0, -1.0, -1.0] : 5.451816081508804 \n",
      "\n",
      "\n",
      "[-1.0, -1.0, -1.0, -1.0, -1.0, -1.0, -1.0, -1.0] : 4.933893553765468 \n",
      "\n",
      "\n",
      "[-1.0, -1.0, -1.0, -1.0, -1.0, -1.0, -1.0, -1.0] : 4.465173666157748 \n",
      "\n",
      "\n",
      "[-1.0, -1.0, -1.0, -1.0, -1.0, -1.0, -1.0, -1.0] : 4.0409821678727615 \n",
      "\n",
      "\n",
      "[-1.0, -1.0, -1.0, -1.0, -1.0, -1.0, -1.0, -1.0] : 3.657088861924849 \n",
      "\n",
      "\n",
      "[-1.0, -1.0, -1.0, -1.0, -1.0, -1.0, -1.0, -1.0] : 3.3096654200419886 \n",
      "\n",
      "\n",
      "[-1.0, -1.0, -1.0, -1.0, -1.0, -1.0, -1.0, -1.0] : 2.995247205138 \n",
      "\n",
      "\n",
      "[-1.0, -1.0, -1.0, -1.0, -1.0, -1.0, -1.0, -1.0] : 2.71069872064989 \n",
      "\n",
      "\n",
      "[-1.0, -1.0, -1.0, -1.0, -1.0, -1.0, -1.0, -1.0] : 2.4531823421881502 \n",
      "\n",
      "\n",
      "[-1.0, -1.0, -1.0, -1.0, -1.0, -1.0, -1.0, -1.0] : 2.220130019680276 \n",
      "\n",
      "\n",
      "[-1.0, -1.0, -1.0, -1.0, -1.0, -1.0, -1.0, -1.0] : 2.0092176678106495 \n",
      "\n",
      "\n",
      "[-1.0, -1.0, -1.0, -1.0, -1.0, -1.0, -1.0, -1.0] : 1.818341989368638 \n",
      "\n",
      "\n"
     ]
    },
    {
     "name": "stderr",
     "output_type": "stream",
     "text": [
      "Current Episode:  15%|█▌        | 154/1000 [16:11<1:27:42,  6.22s/it]"
     ]
    },
    {
     "name": "stdout",
     "output_type": "stream",
     "text": [
      "[-1.0, 11.458087786766178, -1.0, -1.0, -1.0, -1.0, -1.0, 0.2709741452114184] : 0.6795860370355054 \n",
      "\n",
      "\n"
     ]
    },
    {
     "name": "stderr",
     "output_type": "stream",
     "text": [
      "Current Episode:  16%|█▌        | 155/1000 [16:17<1:27:50,  6.24s/it]"
     ]
    },
    {
     "name": "stdout",
     "output_type": "stream",
     "text": [
      "[-1.0, -1.0, -1.0, -1.0, -1.0, -1.0, -1.0, -1.0] : 3.1825106851410805 \n",
      "\n",
      "\n",
      "[-1.0, -1.0, -1.0, 31.053127314628153, -1.0, -1.0, -1.0, -1.0] : 2.8801721700526777 \n",
      "\n",
      "\n",
      "[-1.0, -1.0, -1.0, -1.0, -1.0, -1.0, -1.0, -1.0] : 2.8801721700526777 \n",
      "\n",
      "\n",
      "[-1.0, -1.0, -1.0, -1.0, -1.0, -1.0, -1.0, -1.0] : 2.6065558138976734 \n",
      "\n",
      "\n",
      "[-1.0, -1.0, -1.0, -1.0, -1.0, -1.0, -1.0, -1.0] : 2.3589330115773945 \n",
      "\n",
      "\n"
     ]
    },
    {
     "name": "stderr",
     "output_type": "stream",
     "text": [
      "Current Episode:  16%|█▌        | 156/1000 [16:23<1:27:53,  6.25s/it]"
     ]
    },
    {
     "name": "stdout",
     "output_type": "stream",
     "text": [
      "[11.348733487393284, -1.0, -1.0, -1.0, -1.0, -1.0, -1.0, -1.0] : 0.5739267361177411 \n",
      "\n",
      "\n"
     ]
    },
    {
     "name": "stderr",
     "output_type": "stream",
     "text": [
      "Current Episode:  16%|█▌        | 158/1000 [16:36<1:28:05,  6.28s/it]"
     ]
    },
    {
     "name": "stdout",
     "output_type": "stream",
     "text": [
      "[-1.0, 14.915619959595432, -1.0, -1.0, -1.0, -1.0, -1.0, -1.0] : 4.939357323092487 \n",
      "\n",
      "\n"
     ]
    },
    {
     "name": "stderr",
     "output_type": "stream",
     "text": [
      "Current Episode:  16%|█▌        | 160/1000 [16:48<1:27:11,  6.23s/it]"
     ]
    },
    {
     "name": "stdout",
     "output_type": "stream",
     "text": [
      "[-1.0, -1.0, -1.0, -1.0, -1.0, -1.0, -1.0, -1.0] : 0.6251482357529711 \n",
      "\n",
      "\n",
      "[-1.0, -1.0, 50.01185886023769, -1.0, -1.0, -1.0, -1.0, -1.0] : 0.5657591533564388 \n",
      "\n",
      "\n",
      "[-1.0, -1.0, -1.0, -1.0, -1.0, -1.0, -1.0, -1.0] : 0.5657591533564388 \n",
      "\n",
      "\n",
      "[-1.0, -1.0, -1.0, -1.0, -1.0, -1.0, -1.0, -1.0] : 0.5120120337875771 \n",
      "\n",
      "\n",
      "[-1.0, -1.0, -1.0, -1.0, -1.0, -1.0, -1.0, -1.0] : 0.46337089057775727 \n",
      "\n",
      "\n",
      "[-1.0, -1.0, -1.0, -1.0, -1.0, -1.0, -1.0, -1.0] : 0.41935065597287036 \n",
      "\n",
      "\n",
      "[-1.0, -1.0, -1.0, -1.0, -1.0, -1.0, -1.0, -1.0] : 0.37951234365544767 \n",
      "\n",
      "\n",
      "[-1.0, -1.0, -1.0, -1.0, -1.0, -1.0, -1.0, -1.0] : 0.34345867100818017 \n",
      "\n",
      "\n",
      "[-1.0, -1.0, -1.0, -1.0, -1.0, -1.0, -1.0, -1.0] : 0.31083009726240307 \n",
      "\n",
      "\n"
     ]
    },
    {
     "name": "stderr",
     "output_type": "stream",
     "text": [
      "Current Episode:  17%|█▋        | 167/1000 [17:32<1:26:27,  6.23s/it]"
     ]
    },
    {
     "name": "stdout",
     "output_type": "stream",
     "text": [
      "[-1.0, -1.0, -1.0, -1.0, -1.0, -1.0, -1.0, -1.0] : 1.2016742163266994 \n",
      "\n",
      "\n",
      "[96.13393730613593, -1.0, -1.0, -1.0, -1.0, -1.0, -1.0, -1.0] : 1.0139386761610725 \n",
      "\n",
      "\n",
      "[-1.0, -1.0, -1.0, 81.1150940928858, -1.0, -1.0, -1.0, -1.0] : 1.087515165775663 \n",
      "\n",
      "\n",
      "[-1.0, -1.0, -1.0, -1.0, -1.0, -1.0, -1.0, -1.0] : 1.087515165775663 \n",
      "\n",
      "\n",
      "[-1.0, -1.0, -1.0, -1.0, -1.0, -1.0, -1.0, -1.0] : 0.9842012250269749 \n",
      "\n",
      "\n",
      "[-1.0, -1.0, -1.0, -1.0, -1.0, -1.0, -1.0, -1.0] : 0.8907021086494123 \n",
      "\n",
      "\n",
      "[-1.0, -1.0, -1.0, -1.0, -1.0, -1.0, -1.0, -1.0] : 0.8060854083277181 \n",
      "\n",
      "\n",
      "[-1.0, -1.0, -1.0, 15.967937082546612, -1.0, -1.0, -1.0, -1.0] : 1.4513540199832171 \n",
      "\n",
      "\n"
     ]
    },
    {
     "name": "stderr",
     "output_type": "stream",
     "text": [
      "Current Episode:  17%|█▋        | 169/1000 [17:44<1:27:05,  6.29s/it]"
     ]
    },
    {
     "name": "stdout",
     "output_type": "stream",
     "text": [
      "[20.14557822574501, -1.0, -1.0, -1.0, -1.0, -1.0, -1.0, -1.0] : 1.0811997054937679 \n",
      "\n",
      "\n"
     ]
    },
    {
     "name": "stderr",
     "output_type": "stream",
     "text": [
      "Current Episode:  17%|█▋        | 170/1000 [17:51<1:27:42,  6.34s/it]"
     ]
    },
    {
     "name": "stdout",
     "output_type": "stream",
     "text": [
      "[13.585920345347843, -1.0, -1.0, -1.0, -1.0, -1.0, 0.22430396674012626, -1.0] : 1.6740153776379536 \n",
      "\n",
      "\n"
     ]
    },
    {
     "name": "stderr",
     "output_type": "stream",
     "text": [
      "Current Episode:  17%|█▋        | 171/1000 [17:57<1:27:46,  6.35s/it]"
     ]
    },
    {
     "name": "stdout",
     "output_type": "stream",
     "text": [
      "[-1.0, -1.0, -1.0, -1.0, -1.0, -1.0, -1.0, -1.0] : 0.7829545974810684 \n",
      "\n",
      "\n",
      "[-1.0, -1.0, -1.0, 27.85941631222145, -1.0, -1.0, -1.0, -1.0] : 0.7085739107203669 \n",
      "\n",
      "\n",
      "[-1.0, -1.0, -1.0, -1.0, -1.0, -1.0, -1.0, -1.0] : 0.7085739107203669 \n",
      "\n",
      "\n",
      "[-1.0, -1.0, -1.0, -1.0, -1.0, -1.0, -1.0, -1.0] : 0.641259389201932 \n",
      "\n",
      "\n",
      "[-1.0, -1.0, -1.0, -1.0, -1.0, -1.0, -1.0, -1.0] : 0.5803397472277485 \n",
      "\n",
      "\n",
      "[-1.0, -1.0, -1.0, -1.0, -1.0, -1.0, -1.0, -1.0] : 0.5252074712411124 \n",
      "\n",
      "\n",
      "[-1.0, -1.0, -1.0, -1.0, -1.0, -1.0, -1.0, -1.0] : 0.4753127614732068 \n",
      "\n",
      "\n",
      "[-1.0, -1.0, -1.0, -1.0, -1.0, -1.0, -1.0, -1.0] : 0.4301580491332521 \n",
      "\n",
      "\n",
      "[-1.0, -1.0, -1.0, -1.0, -1.0, -1.0, -1.0, -1.0] : 0.38929303446559316 \n",
      "\n",
      "\n",
      "[-1.0, -1.0, -1.0, -1.0, -1.0, -1.0, -1.0, -1.0] : 0.35231019619136184 \n",
      "\n",
      "\n"
     ]
    },
    {
     "name": "stderr",
     "output_type": "stream",
     "text": [
      "Current Episode:  18%|█▊        | 175/1000 [18:22<1:26:37,  6.30s/it]"
     ]
    },
    {
     "name": "stdout",
     "output_type": "stream",
     "text": [
      "[-1.0, 18.187584445405722, -1.0, -1.0, -1.0, -1.0, -1.0, -1.0] : 13.02295182888448 \n",
      "\n",
      "\n"
     ]
    },
    {
     "name": "stderr",
     "output_type": "stream",
     "text": [
      "Current Episode:  18%|█▊        | 178/1000 [18:41<1:26:27,  6.31s/it]"
     ]
    },
    {
     "name": "stdout",
     "output_type": "stream",
     "text": [
      "[-1.0, -1.0, -1.0, -1.0, -1.0, -1.0, -1.0, -1.0] : 96.27121024368861 \n",
      "\n",
      "\n",
      "[-1.0, -1.0, 24.42613872324518, -1.0, -1.0, -1.0, -1.0, -1.0] : 87.1254452705382 \n",
      "\n",
      "\n",
      "[-1.0, -1.0, -1.0, -1.0, -1.0, -1.0, -1.0, -1.0] : 87.1254452705382 \n",
      "\n",
      "\n",
      "[-1.0, -1.0, -1.0, -1.0, -1.0, -1.0, -1.0, -1.0] : 78.84852796983706 \n",
      "\n",
      "\n",
      "[-1.0, -1.0, -1.0, -1.0, -1.0, -1.0, -1.0, -1.0] : 71.35791781270254 \n",
      "\n",
      "\n",
      "[-1.0, -1.0, -1.0, -1.0, -1.0, -1.0, -1.0, -1.0] : 64.57891562049579 \n",
      "\n",
      "\n",
      "[-1.0, -1.0, -1.0, -1.0, -1.0, -1.0, -1.0, -1.0] : 58.44391863654869 \n",
      "\n",
      "\n",
      "[-1.0, -1.0, -1.0, -1.0, -1.0, -1.0, -1.0, -1.0] : 52.89174636607656 \n",
      "\n",
      "\n",
      "[-1.0, -1.0, -1.0, -1.0, -1.0, -1.0, -1.0, -1.0] : 47.86703046129929 \n",
      "\n",
      "\n",
      "[-1.0, -1.0, -1.0, -1.0, -1.0, -1.0, -1.0, -1.0] : 43.31966256747585 \n",
      "\n",
      "\n",
      "[-1.0, -1.0, -1.0, -1.0, -1.0, -1.0, -1.0, -1.0] : 39.204294623565644 \n",
      "\n",
      "\n",
      "[-1.0, -1.0, -1.0, -1.0, -1.0, -1.0, -1.0, -1.0] : 35.47988663432691 \n",
      "\n",
      "\n",
      "[-1.0, -1.0, -1.0, -1.0, -1.0, -1.0, -1.0, -1.0] : 32.109297404065856 \n",
      "\n",
      "\n",
      "[-1.0, -1.0, -1.0, -1.0, -1.0, -1.0, -1.0, -1.0] : 29.0589141506796 \n",
      "\n",
      "\n",
      "[-1.0, -1.0, -1.0, -1.0, -1.0, -1.0, -1.0, -1.0] : 26.298317306365036 \n",
      "\n",
      "\n",
      "[-1.0, -1.0, -1.0, -1.0, -1.0, -1.0, -1.0, -1.0] : 23.799977162260358 \n",
      "\n",
      "\n",
      "[-1.0, -1.0, -1.0, -1.0, -1.0, -1.0, -1.0, -1.0] : 21.538979331845624 \n",
      "\n",
      "\n",
      "[-1.0, -1.0, -1.0, -1.0, -1.0, -1.0, -1.0, -1.0] : 19.49277629532029 \n",
      "\n",
      "\n",
      "[-1.0, -1.0, -1.0, -1.0, -1.0, -1.0, -1.0, -1.0] : 17.640962547264863 \n",
      "\n",
      "\n",
      "[-1.0, -1.0, -1.0, -1.0, -1.0, -1.0, -1.0, -1.0] : 15.965071105274701 \n",
      "\n",
      "\n",
      "[-1.0, -1.0, -1.0, -1.0, -1.0, -1.0, -1.0, -1.0] : 14.448389350273604 \n",
      "\n",
      "\n",
      "[-1.0, -1.0, -1.0, -1.0, -1.0, -1.0, -1.0, -1.0] : 13.075792361997612 \n",
      "\n",
      "\n",
      "[-1.0, -1.0, -1.0, -1.0, -1.0, -1.0, -1.0, -1.0] : 11.833592087607839 \n",
      "\n",
      "\n"
     ]
    },
    {
     "name": "stderr",
     "output_type": "stream",
     "text": [
      "Current Episode:  18%|█▊        | 182/1000 [19:06<1:25:04,  6.24s/it]"
     ]
    },
    {
     "name": "stdout",
     "output_type": "stream",
     "text": [
      "[-1.0, -1.0, -1.0, -1.0, -1.0, -1.0, -1.0, -1.0] : 0.7250432808109968 \n",
      "\n",
      "\n",
      "[-1.0, -1.0, 58.00346246487974, -1.0, -1.0, -1.0, -1.0, -1.0] : 0.6561641691339521 \n",
      "\n",
      "\n",
      "[-1.0, -1.0, -1.0, -1.0, -1.0, -1.0, -1.0, -1.0] : 0.6561641691339521 \n",
      "\n",
      "\n"
     ]
    },
    {
     "name": "stderr",
     "output_type": "stream",
     "text": [
      "Current Episode:  18%|█▊        | 185/1000 [19:25<1:25:29,  6.29s/it]"
     ]
    },
    {
     "name": "stdout",
     "output_type": "stream",
     "text": [
      "[-1.0, -1.0, -1.0, -1.0, -1.0, -1.0, -1.0, -1.0] : 2.285007721203283 \n",
      "\n",
      "\n",
      "[182.80061769626263, -1.0, -1.0, -1.0, -1.0, -1.0, -1.0, -1.0] : 0.5651430160619876 \n",
      "\n",
      "\n",
      "[-1.0, -1.0, -1.0, 15.633182285103508, -1.0, -1.0, -1.0, -1.0] : 2.0679319876889712 \n",
      "\n",
      "\n"
     ]
    },
    {
     "name": "stderr",
     "output_type": "stream",
     "text": [
      "Current Episode:  19%|█▊        | 186/1000 [19:31<1:24:53,  6.26s/it]"
     ]
    },
    {
     "name": "stdout",
     "output_type": "stream",
     "text": [
      "[-1.0, -1.0, -1.0, -1.0, 0.11833066913964305, -1.0, -1.0, -1.0] : 1.440450051101183 \n",
      "\n",
      "\n"
     ]
    },
    {
     "name": "stderr",
     "output_type": "stream",
     "text": [
      "Current Episode:  19%|█▊        | 187/1000 [19:37<1:24:32,  6.24s/it]"
     ]
    },
    {
     "name": "stdout",
     "output_type": "stream",
     "text": [
      "[-1.0, 12.926325070451844, -1.0, -1.0, -1.0, -1.0, -1.0, -1.0] : 2.0461838297894714 \n",
      "\n",
      "\n"
     ]
    },
    {
     "name": "stderr",
     "output_type": "stream",
     "text": [
      "Current Episode:  19%|█▉        | 194/1000 [20:21<1:25:20,  6.35s/it]"
     ]
    },
    {
     "name": "stdout",
     "output_type": "stream",
     "text": [
      "[-1.0, 21.425264304093385, -1.0, -1.0, -1.0, -1.0, -1.0, -1.0] : 2.959790004181882 \n",
      "\n",
      "\n"
     ]
    },
    {
     "name": "stderr",
     "output_type": "stream",
     "text": [
      "Current Episode:  20%|█▉        | 195/1000 [20:28<1:25:35,  6.38s/it]"
     ]
    },
    {
     "name": "stdout",
     "output_type": "stream",
     "text": [
      "[-1.0, -1.0, -1.0, -1.0, -1.0, -1.0, -1.0, -1.0] : 0.700831325990406 \n",
      "\n",
      "\n",
      "[56.066506079232475, -1.0, -1.0, -1.0, -1.0, -1.0, -1.0, -1.0] : 1.296515818955914 \n",
      "\n",
      "\n",
      "[-1.0, -1.0, -1.0, 103.72126551647311, -1.0, -1.0, -1.0, -1.0] : 0.6342523500213174 \n",
      "\n",
      "\n",
      "[-1.0, -1.0, -1.0, -1.0, -1.0, -1.0, -1.0, -1.0] : 0.6342523500213174 \n",
      "\n",
      "\n",
      "[-1.0, -1.0, -1.0, -1.0, -1.0, -1.0, -1.0, -1.0] : 0.5739983767692922 \n",
      "\n",
      "\n"
     ]
    },
    {
     "name": "stderr",
     "output_type": "stream",
     "text": [
      "Current Episode:  20%|█▉        | 199/1000 [20:53<1:24:22,  6.32s/it]"
     ]
    },
    {
     "name": "stdout",
     "output_type": "stream",
     "text": [
      "[-1.0, -1.0, -1.0, -1.0, -1.0, -1.0, -1.0, -1.0] : 4.058430549419387 \n",
      "\n",
      "\n",
      "[-1.0, -1.0, -1.0, 15.140204308259671, -1.0, -1.0, -1.0, -1.0] : 3.672879647224545 \n",
      "\n",
      "\n",
      "[-1.0, -1.0, -1.0, -1.0, -1.0, -1.0, -1.0, -1.0] : 3.672879647224545 \n",
      "\n",
      "\n",
      "[-1.0, -1.0, -1.0, -1.0, -1.0, -1.0, -1.0, -1.0] : 3.3239560807382134 \n",
      "\n",
      "\n",
      "[-1.0, -1.0, -1.0, -1.0, -1.0, -1.0, -1.0, -1.0] : 3.0081802530680832 \n",
      "\n",
      "\n"
     ]
    },
    {
     "name": "stderr",
     "output_type": "stream",
     "text": [
      "Current Episode:  20%|██        | 204/1000 [21:24<1:21:34,  6.15s/it]"
     ]
    },
    {
     "name": "stdout",
     "output_type": "stream",
     "text": [
      "[-1.0, -1.0, -1.0, 11.669590176713488, -1.0, -1.0, -1.0, -1.0] : 1.0531786316261893 \n",
      "\n",
      "\n"
     ]
    },
    {
     "name": "stderr",
     "output_type": "stream",
     "text": [
      "Current Episode:  20%|██        | 205/1000 [21:30<1:21:22,  6.14s/it]"
     ]
    },
    {
     "name": "stdout",
     "output_type": "stream",
     "text": [
      "[14.76449851677079, -1.0, -1.0, -1.0, -1.0, -1.0, -1.0, -1.0] : 0.8899025562269346 \n",
      "\n",
      "\n"
     ]
    },
    {
     "name": "stderr",
     "output_type": "stream",
     "text": [
      "Current Episode:  21%|██        | 209/1000 [21:56<1:23:30,  6.33s/it]"
     ]
    },
    {
     "name": "stdout",
     "output_type": "stream",
     "text": [
      "[-1.0, 19.865203524798567, -1.0, -1.0, -1.0, -1.0, -1.0, -1.0] : 1.6323938486476512 \n",
      "\n",
      "\n"
     ]
    },
    {
     "name": "stderr",
     "output_type": "stream",
     "text": [
      "Current Episode:  23%|██▎       | 226/1000 [23:40<1:19:06,  6.13s/it]"
     ]
    },
    {
     "name": "stdout",
     "output_type": "stream",
     "text": [
      "[-1.0, -1.0, -1.0, -1.0, -1.0, -1.0, -1.0, -1.0] : 0.5613104480832405 \n",
      "\n",
      "\n",
      "[-1.0, 44.90483584665924, -1.0, -1.0, -1.0, -1.0, -1.0, -1.0] : 2.4920813731760836 \n",
      "\n",
      "\n",
      "[-1.0, -1.0, 199.3665098540867, -1.0, -1.0, -1.0, -1.0, -1.0] : 0.7206218944992635 \n",
      "\n",
      "\n",
      "[-1.0, 57.64975155994107, -1.0, -1.0, -1.0, -1.0, -1.0, -1.0] : 1.1894473233771519 \n",
      "\n",
      "\n",
      "[-1.0, -1.0, 95.15578587017217, -1.0, -1.0, -1.0, -1.0, -1.0] : 0.5079859555153327 \n",
      "\n",
      "\n",
      "[-1.0, -1.0, -1.0, -1.0, -1.0, -1.0, -1.0, -1.0] : 0.5079859555153327 \n",
      "\n",
      "\n",
      "[-1.0, -1.0, -1.0, -1.0, -1.0, -1.0, -1.0, -1.0] : 0.45972728974137606 \n",
      "\n",
      "\n",
      "[-1.0, -1.0, -1.0, -1.0, -1.0, -1.0, -1.0, -1.0] : 0.41605319721594536 \n",
      "\n",
      "\n",
      "[-1.0, -1.0, -1.0, -1.0, -1.0, -1.0, -1.0, -1.0] : 0.37652814348043057 \n",
      "\n",
      "\n",
      "[-1.0, -1.0, -1.0, -1.0, -1.0, -1.0, -1.0, -1.0] : 0.3407579698497897 \n",
      "\n",
      "\n",
      "[-1.0, -1.0, -1.0, -1.0, -1.0, -1.0, -1.0, -1.0] : 0.30838596271405966 \n",
      "\n",
      "\n",
      "[-1.0, -1.0, -1.0, -1.0, -1.0, -1.0, -1.0, -1.0] : 0.279089296256224 \n",
      "\n",
      "\n",
      "[-1.0, -1.0, -1.0, -1.0, -1.0, -1.0, -1.0, -1.0] : 0.2525758131118827 \n",
      "\n",
      "\n",
      "[-1.0, -1.0, -1.0, -1.0, -1.0, -1.0, -1.0, -1.0] : 0.22858111086625385 \n",
      "\n",
      "\n",
      "[-1.0, -1.0, -1.0, -1.0, -1.0, -1.0, -1.0, -1.0] : 0.20686590533395974 \n",
      "\n",
      "\n",
      "[-1.0, -1.0, -1.0, -1.0, -1.0, -1.0, -1.0, -1.0] : 0.18721364432723356 \n",
      "\n",
      "\n",
      "[-1.0, -1.0, -1.0, -1.0, -1.0, -1.0, -1.0, -1.0] : 0.16942834811614638 \n",
      "\n",
      "\n",
      "[-1.0, -1.0, -1.0, -1.0, -1.0, -1.0, -1.0, -1.0] : 0.15333265504511248 \n",
      "\n",
      "\n",
      "[-1.0, -1.0, -1.0, -1.0, -1.0, -1.0, -1.0, -1.0] : 0.1387660528158268 \n",
      "\n",
      "\n",
      "[-1.0, -1.0, -1.0, -1.0, -1.0, -1.0, -1.0, -1.0] : 0.12558327779832326 \n",
      "\n",
      "\n",
      "[-1.0, -1.0, -1.0, -1.0, -1.0, -1.0, -1.0, -1.0] : 0.11365286640748255 \n",
      "\n",
      "\n"
     ]
    },
    {
     "name": "stderr",
     "output_type": "stream",
     "text": [
      "Current Episode:  23%|██▎       | 227/1000 [23:46<1:19:02,  6.14s/it]"
     ]
    },
    {
     "name": "stdout",
     "output_type": "stream",
     "text": [
      "[-1.0, -1.0, -1.0, -1.0, -1.0, -1.0, -1.0, -1.0] : 1.755067056571738 \n",
      "\n",
      "\n",
      "[-1.0, -1.0, -1.0, 18.531107472512236, 1.10080928616895, -1.0, -1.0, -1.0] : 0.9935310154412758 \n",
      "\n",
      "\n",
      "[-1.0, -1.0, -1.0, -1.0, -1.0, -1.0, 0.1615827845140116, -1.0] : 0.9084514139442416 \n",
      "\n",
      "\n",
      "[-1.0, -1.0, -1.0, -1.0, -1.0, -1.0, 0.5963949619082184, -1.0] : 1.5883356861974227 \n",
      "\n",
      "\n",
      "[-1.0, -1.0, -1.0, -1.0, -1.0, -1.0, -1.0, -1.0] : 1.5883356861974227 \n",
      "\n",
      "\n",
      "[-1.0, -1.0, -1.0, -1.0, -1.0, -1.0, -1.0, -1.0] : 1.4374437960086675 \n",
      "\n",
      "\n",
      "[-1.0, -1.0, -1.0, -1.0, -1.0, -1.0, -1.0, -1.0] : 1.300886635387844 \n",
      "\n",
      "\n"
     ]
    },
    {
     "name": "stderr",
     "output_type": "stream",
     "text": [
      "Current Episode:  23%|██▎       | 230/1000 [24:06<1:20:33,  6.28s/it]"
     ]
    },
    {
     "name": "stdout",
     "output_type": "stream",
     "text": [
      "[26.228360192995503, -1.0, -1.0, -1.0, -1.0, -1.0, -1.0, -1.0] : 30.37795326081694 \n",
      "\n",
      "\n"
     ]
    },
    {
     "name": "stderr",
     "output_type": "stream",
     "text": [
      "Current Episode:  23%|██▎       | 232/1000 [24:19<1:21:38,  6.38s/it]"
     ]
    },
    {
     "name": "stdout",
     "output_type": "stream",
     "text": [
      "[-1.0, -1.0, -1.0, -1.0, -1.0, -1.0, -1.0, -1.0] : 1.3598105003189525 \n",
      "\n",
      "\n",
      "[-1.0, -1.0, 26.421393173520904, -1.0, -1.0, -1.0, 0.4724587480975215, -1.0] : 1.2306285027886519 \n",
      "\n",
      "\n",
      "[-1.0, -1.0, -1.0, -1.0, -1.0, -1.0, -1.0, -1.0] : 1.2306285027886519 \n",
      "\n",
      "\n",
      "[-1.0, -1.0, -1.0, -1.0, -1.0, -1.0, -1.0, -1.0] : 1.11371879502373 \n",
      "\n",
      "\n",
      "[-1.0, -1.0, -1.0, -1.0, -1.0, -1.0, -1.0, -1.0] : 1.0079155094964756 \n",
      "\n",
      "\n",
      "[-1.0, -1.0, -1.0, -1.0, -1.0, -1.0, -1.0, -1.0] : 0.9121635360943103 \n",
      "\n",
      "\n",
      "[-1.0, -1.0, -1.0, -1.0, -1.0, -1.0, -1.0, -1.0] : 0.8255080001653509 \n",
      "\n",
      "\n",
      "[-1.0, -1.0, -1.0, -1.0, -1.0, -1.0, -1.0, -1.0] : 0.7470847401496425 \n",
      "\n",
      "\n",
      "[-1.0, -1.0, -1.0, -1.0, -1.0, -1.0, -1.0, -1.0] : 0.6761116898354265 \n",
      "\n",
      "\n",
      "[-1.0, -1.0, -1.0, -1.0, -1.0, -1.0, -1.0, -1.0] : 0.611881079301061 \n",
      "\n",
      "\n",
      "[-1.0, -1.0, -1.0, -1.0, -1.0, -1.0, -1.0, -1.0] : 0.5537523767674601 \n",
      "\n",
      "\n",
      "[-1.0, -1.0, -1.0, -1.0, -1.0, -1.0, -1.0, -1.0] : 0.5011459009745515 \n",
      "\n",
      "\n",
      "[-1.0, -1.0, -1.0, -1.0, -1.0, -1.0, -1.0, -1.0] : 0.45353704038196907 \n",
      "\n",
      "\n",
      "[-1.0, -1.0, -1.0, -1.0, -1.0, -1.0, -1.0, -1.0] : 0.410451021545682 \n",
      "\n",
      "\n",
      "[-1.0, -1.0, -1.0, -1.0, -1.0, -1.0, -1.0, -1.0] : 0.3714581744988422 \n",
      "\n",
      "\n",
      "[-1.0, -1.0, -1.0, -1.0, -1.0, -1.0, -1.0, -1.0] : 0.3361696479214522 \n",
      "\n",
      "\n",
      "[-1.0, -1.0, -1.0, -1.0, -1.0, -1.0, -1.0, -1.0] : 0.30423353136891423 \n",
      "\n",
      "\n",
      "[-1.0, -1.0, -1.0, -1.0, -1.0, -1.0, -1.0, -1.0] : 0.2753313458888674 \n",
      "\n",
      "\n"
     ]
    },
    {
     "name": "stderr",
     "output_type": "stream",
     "text": [
      "Current Episode:  23%|██▎       | 233/1000 [24:25<1:22:29,  6.45s/it]"
     ]
    },
    {
     "name": "stdout",
     "output_type": "stream",
     "text": [
      "[11.362082427610396, -1.0, -1.0, -1.0, -1.0, -1.0, -1.0, -1.0] : 1.6042069647993253 \n",
      "\n",
      "\n",
      "[128.336557183946, -1.0, -1.0, -1.0, -1.0, -1.0, -1.0, -1.0] : 0.7113594346886924 \n",
      "\n",
      "\n"
     ]
    },
    {
     "name": "stderr",
     "output_type": "stream",
     "text": [
      "Current Episode:  24%|██▎       | 235/1000 [24:38<1:22:43,  6.49s/it]"
     ]
    },
    {
     "name": "stdout",
     "output_type": "stream",
     "text": [
      "[-1.0, 24.543674510635057, -1.0, -1.0, -1.0, -1.0, -1.0, -1.0] : 1.2890576299668108 \n",
      "\n",
      "\n"
     ]
    },
    {
     "name": "stderr",
     "output_type": "stream",
     "text": [
      "Current Episode:  24%|██▎       | 237/1000 [24:51<1:21:31,  6.41s/it]"
     ]
    },
    {
     "name": "stdout",
     "output_type": "stream",
     "text": [
      "[-1.0, 16.235469310305223, -1.0, -1.0, -1.0, -1.0, -1.0, -1.0] : 2.057501397320489 \n",
      "\n",
      "\n",
      "[-1.0, -1.0, 24.656582026450668, -1.0, -1.0, -1.0, -1.0, -1.0] : 0.5655423225678513 \n",
      "\n",
      "\n"
     ]
    },
    {
     "name": "stderr",
     "output_type": "stream",
     "text": [
      "Current Episode:  24%|██▍       | 239/1000 [25:04<1:21:24,  6.42s/it]"
     ]
    },
    {
     "name": "stdout",
     "output_type": "stream",
     "text": [
      "[-1.0, 26.569223195581532, -1.0, -1.0, -1.0, -1.0, -1.0, -1.0] : 0.8860984006127854 \n",
      "\n",
      "\n"
     ]
    },
    {
     "name": "stderr",
     "output_type": "stream",
     "text": [
      "Current Episode:  24%|██▍       | 242/1000 [25:23<1:20:35,  6.38s/it]"
     ]
    },
    {
     "name": "stdout",
     "output_type": "stream",
     "text": [
      "[26.498437224235975, -1.0, -1.0, -1.0, -1.0, -1.0, -1.0, -1.0] : 0.6832479765788959 \n",
      "\n",
      "\n"
     ]
    },
    {
     "name": "stderr",
     "output_type": "stream",
     "text": [
      "Current Episode:  25%|██▍       | 247/1000 [25:54<1:18:15,  6.24s/it]"
     ]
    },
    {
     "name": "stdout",
     "output_type": "stream",
     "text": [
      "[-1.0, -1.0, -1.0, -1.0, -1.0, -1.0, 1.9409290491411129, -1.0] : 6.487234648135332 \n",
      "\n",
      "\n"
     ]
    },
    {
     "name": "stderr",
     "output_type": "stream",
     "text": [
      "Current Episode:  25%|██▌       | 250/1000 [26:13<1:17:45,  6.22s/it]"
     ]
    },
    {
     "name": "stdout",
     "output_type": "stream",
     "text": [
      "[-1.0, -1.0, -1.0, -1.0, -1.0, -1.0, -1.0, -1.0] : 2.0453989727641537 \n",
      "\n",
      "\n",
      "[-1.0, -1.0, -1.0, 11.88166280535169, -1.0, -1.0, -1.0, -1.0] : 1.851086070351559 \n",
      "\n",
      "\n",
      "[-1.0, -1.0, -1.0, -1.0, -1.0, -1.0, -1.0, -1.0] : 1.851086070351559 \n",
      "\n",
      "\n",
      "[-1.0, -1.0, -1.0, -1.0, -1.0, -1.0, -1.0, -1.0] : 1.6752328936681609 \n",
      "\n",
      "\n",
      "[-1.0, -1.0, -1.0, -1.0, -1.0, -1.0, -1.0, -1.0] : 1.5160857687696856 \n",
      "\n",
      "\n",
      "[-1.0, -1.0, -1.0, -1.0, -1.0, -1.0, -1.0, -1.0] : 1.3720576207365656 \n",
      "\n",
      "\n",
      "[-1.0, -1.0, -1.0, -1.0, -1.0, -1.0, -1.0, -1.0] : 1.241712146766592 \n",
      "\n",
      "\n",
      "[-1.0, -1.0, -1.0, -1.0, -1.0, -1.0, -1.0, -1.0] : 1.1237494928237657 \n",
      "\n",
      "\n"
     ]
    },
    {
     "name": "stderr",
     "output_type": "stream",
     "text": [
      "Current Episode:  25%|██▌       | 251/1000 [26:19<1:17:34,  6.21s/it]"
     ]
    },
    {
     "name": "stdout",
     "output_type": "stream",
     "text": [
      "[-1.0, 12.622082507262974, -1.0, -1.0, -1.0, -1.0, -1.0, -1.0] : 2.036782897431818 \n",
      "\n",
      "\n",
      "[-1.0, -1.0, 43.387656996254485, -1.0, -1.0, -1.0, -1.0, -1.0] : 1.048401485757459 \n",
      "\n",
      "\n"
     ]
    },
    {
     "name": "stderr",
     "output_type": "stream",
     "text": [
      "Current Episode:  25%|██▌       | 252/1000 [26:25<1:18:02,  6.26s/it]"
     ]
    },
    {
     "name": "stdout",
     "output_type": "stream",
     "text": [
      "[37.34309855663099, -1.0, -1.0, -1.0, -1.0, -1.0, -1.0, -1.0] : 2.3374925049575217 \n",
      "\n",
      "\n"
     ]
    },
    {
     "name": "stderr",
     "output_type": "stream",
     "text": [
      "Current Episode:  26%|██▌       | 256/1000 [26:51<1:17:46,  6.27s/it]"
     ]
    },
    {
     "name": "stdout",
     "output_type": "stream",
     "text": [
      "[-1.0, 21.011280542448016, -1.0, -1.0, -1.0, -1.0, -1.0, -1.0] : 2.4234261438342606 \n",
      "\n",
      "\n",
      "[-1.0, -1.0, -1.0, 13.416916116121058, -1.0, -1.0, -1.0, -1.0] : 2.4582926854598894 \n",
      "\n",
      "\n"
     ]
    },
    {
     "name": "stderr",
     "output_type": "stream",
     "text": [
      "Current Episode:  26%|██▌       | 259/1000 [27:09<1:16:47,  6.22s/it]"
     ]
    },
    {
     "name": "stdout",
     "output_type": "stream",
     "text": [
      "[-1.0, -1.0, -1.0, 23.514929419214234, -1.0, -1.0, -1.0, -1.0] : 0.7813119447826138 \n",
      "\n",
      "\n"
     ]
    },
    {
     "name": "stderr",
     "output_type": "stream",
     "text": [
      "Current Episode:  27%|██▋       | 269/1000 [28:11<1:14:06,  6.08s/it]"
     ]
    },
    {
     "name": "stdout",
     "output_type": "stream",
     "text": [
      "[-1.0, 32.41335304386244, -1.0, -1.0, -1.0, -1.0, -1.0, -1.0] : 4.891151910762704 \n",
      "\n",
      "\n"
     ]
    },
    {
     "name": "stderr",
     "output_type": "stream",
     "text": [
      "Current Episode:  28%|██▊       | 279/1000 [29:12<1:12:52,  6.06s/it]"
     ]
    },
    {
     "name": "stdout",
     "output_type": "stream",
     "text": [
      "[-1.0, -1.0, -1.0, -1.0, -1.0, -1.0, -1.0, -1.0] : 14.335797737005073 \n",
      "\n",
      "\n",
      "[-1.0, -1.0, 17.235400168270463, -1.0, -1.0, -1.0, -1.0, -1.0] : 12.973896951989591 \n",
      "\n",
      "\n"
     ]
    },
    {
     "name": "stderr",
     "output_type": "stream",
     "text": [
      "Current Episode:  29%|██▉       | 290/1000 [30:19<1:13:00,  6.17s/it]"
     ]
    },
    {
     "name": "stdout",
     "output_type": "stream",
     "text": [
      "[41.11670752696785, -1.0, -1.0, -1.0, -1.0, -1.0, -1.0, -1.0] : 3.749456526414141 \n",
      "\n",
      "\n"
     ]
    },
    {
     "name": "stderr",
     "output_type": "stream",
     "text": [
      "Current Episode:  29%|██▉       | 291/1000 [30:26<1:14:44,  6.33s/it]"
     ]
    },
    {
     "name": "stdout",
     "output_type": "stream",
     "text": [
      "[-1.0, -1.0, -1.0, -1.0, -1.0, -1.0, -1.0, -1.0] : 0.7857495223862022 \n",
      "\n",
      "\n",
      "[-1.0, -1.0, 62.85996179089618, -1.0, -1.0, -1.0, -1.0, -1.0] : 0.711103317759513 \n",
      "\n",
      "\n",
      "[-1.0, -1.0, -1.0, -1.0, -1.0, -1.0, -1.0, -1.0] : 0.711103317759513 \n",
      "\n",
      "\n"
     ]
    },
    {
     "name": "stderr",
     "output_type": "stream",
     "text": [
      "Current Episode:  29%|██▉       | 294/1000 [30:44<1:12:52,  6.19s/it]"
     ]
    },
    {
     "name": "stdout",
     "output_type": "stream",
     "text": [
      "[-1.0, -1.0, -1.0, -1.0, -1.0, -1.0, -1.0, -1.0] : 1.2532846120276409 \n",
      "\n",
      "\n",
      "[-1.0, -1.0, 11.39851857639822, -1.0, -1.0, -1.0, -1.0, -1.0] : 1.134222573885015 \n",
      "\n",
      "\n"
     ]
    },
    {
     "name": "stderr",
     "output_type": "stream",
     "text": [
      "Current Episode:  30%|███       | 301/1000 [31:28<1:13:23,  6.30s/it]"
     ]
    },
    {
     "name": "stdout",
     "output_type": "stream",
     "text": [
      "[-1.0, 26.003930680881833, -1.0, -1.0, -1.0, -1.0, -1.0, -1.0] : 0.731188728400689 \n",
      "\n",
      "\n"
     ]
    },
    {
     "name": "stderr",
     "output_type": "stream",
     "text": [
      "Current Episode:  30%|███       | 305/1000 [31:54<1:12:48,  6.28s/it]"
     ]
    },
    {
     "name": "stdout",
     "output_type": "stream",
     "text": [
      "[-1.0, -1.0, -1.0, 11.953817470266715, -1.0, -1.0, -1.0, -1.0] : 0.8054322087052181 \n",
      "\n",
      "\n"
     ]
    },
    {
     "name": "stderr",
     "output_type": "stream",
     "text": [
      "Current Episode:  31%|███       | 309/1000 [32:19<1:12:39,  6.31s/it]"
     ]
    },
    {
     "name": "stdout",
     "output_type": "stream",
     "text": [
      "[-1.0, -1.0, 11.319974038001892, -1.0, -1.0, -1.0, -1.0, -1.0] : 2.9516742502332587 \n",
      "\n",
      "\n"
     ]
    },
    {
     "name": "stderr",
     "output_type": "stream",
     "text": [
      "Current Episode:  31%|███       | 311/1000 [32:31<1:11:57,  6.27s/it]"
     ]
    },
    {
     "name": "stdout",
     "output_type": "stream",
     "text": [
      "[-1.0, 14.164596222688013, -1.0, -1.0, -1.0, -1.0, -1.0, -1.0] : 1.2352447745259636 \n",
      "\n",
      "\n"
     ]
    },
    {
     "name": "stderr",
     "output_type": "stream",
     "text": [
      "Current Episode:  31%|███▏      | 314/1000 [32:50<1:10:45,  6.19s/it]"
     ]
    },
    {
     "name": "stdout",
     "output_type": "stream",
     "text": [
      "[-1.0, -1.0, -1.0, 19.14490137006172, -1.0, -1.0, -1.0, -1.0] : 1.4480934998347987 \n",
      "\n",
      "\n"
     ]
    },
    {
     "name": "stderr",
     "output_type": "stream",
     "text": [
      "Current Episode:  32%|███▏      | 315/1000 [32:56<1:10:19,  6.16s/it]"
     ]
    },
    {
     "name": "stdout",
     "output_type": "stream",
     "text": [
      "[16.831005993589805, -1.0, -1.0, -1.0, -1.0, -1.0, -1.0, -1.0] : 1.043545994045658 \n",
      "\n",
      "\n"
     ]
    },
    {
     "name": "stderr",
     "output_type": "stream",
     "text": [
      "Current Episode:  32%|███▎      | 325/1000 [33:56<1:05:29,  5.82s/it]"
     ]
    },
    {
     "name": "stdout",
     "output_type": "stream",
     "text": [
      "[-1.0, -1.0, -1.0, -1.0, -1.0, -1.0, -1.0, -1.0] : 0.6594296059588427 \n",
      "\n",
      "\n",
      "[-1.0, -1.0, -1.0, 20.113045215537124, -1.0, -1.0, -1.0, -1.0] : 1.051602060836946 \n",
      "\n",
      "\n",
      "[-1.0, -1.0, -1.0, 18.350621621190438, -1.0, -1.0, -1.0, -1.0] : 0.5967837933927527 \n",
      "\n",
      "\n",
      "[-1.0, -1.0, -1.0, -1.0, -1.0, -1.0, -1.0, -1.0] : 0.5967837933927527 \n",
      "\n",
      "\n"
     ]
    },
    {
     "name": "stderr",
     "output_type": "stream",
     "text": [
      "Current Episode:  33%|███▎      | 329/1000 [34:19<1:03:16,  5.66s/it]"
     ]
    },
    {
     "name": "stdout",
     "output_type": "stream",
     "text": [
      "[12.30459107655529, -1.0, -1.0, -1.0, -1.0, -1.0, -1.0, -1.0] : 1.0224238858228267 \n",
      "\n",
      "\n"
     ]
    },
    {
     "name": "stderr",
     "output_type": "stream",
     "text": [
      "Current Episode:  33%|███▎      | 334/1000 [34:48<1:03:09,  5.69s/it]"
     ]
    },
    {
     "name": "stdout",
     "output_type": "stream",
     "text": [
      "[-1.0, -1.0, -1.0, -1.0, -1.0, -1.0, -1.0, -1.0] : 0.6332931398889307 \n",
      "\n",
      "\n",
      "[50.66345119111445, -1.0, -1.0, -1.0, -1.0, -1.0, -1.0, -1.0] : 0.5731302915994823 \n",
      "\n",
      "\n",
      "[-1.0, -1.0, -1.0, -1.0, -1.0, -1.0, -1.0, -1.0] : 0.5731302915994823 \n",
      "\n",
      "\n",
      "[-1.0, -1.0, -1.0, -1.0, -1.0, -1.0, -1.0, -1.0] : 0.5186829138975314 \n",
      "\n",
      "\n"
     ]
    },
    {
     "name": "stderr",
     "output_type": "stream",
     "text": [
      "Current Episode:  34%|███▍      | 340/1000 [35:25<1:07:00,  6.09s/it]"
     ]
    },
    {
     "name": "stdout",
     "output_type": "stream",
     "text": [
      "[-1.0, 28.078384329238652, -1.0, -1.0, -1.0, -1.0, -1.0, -1.0] : 0.6717213082607603 \n",
      "\n",
      "\n"
     ]
    },
    {
     "name": "stderr",
     "output_type": "stream",
     "text": [
      "Current Episode:  34%|███▍      | 343/1000 [35:42<1:05:21,  5.97s/it]"
     ]
    },
    {
     "name": "stdout",
     "output_type": "stream",
     "text": [
      "[-1.0, -1.0, -1.0, -1.0, -1.0, -1.0, -1.0, -1.0] : 2.779109700784666 \n",
      "\n",
      "\n",
      "[-1.0, -1.0, 12.897749528549442, -1.0, -1.0, -1.0, -1.0, -1.0] : 2.5150942792101225 \n",
      "\n",
      "\n",
      "[-1.0, -1.0, -1.0, -1.0, -1.0, -1.0, -1.0, -1.0] : 0.6462031590588428 \n",
      "\n",
      "\n",
      "[-1.0, -1.0, 33.520666391262594, -1.0, -1.0, -1.0, -1.0, -1.0] : 0.5848138589482528 \n",
      "\n",
      "\n",
      "[-1.0, -1.0, -1.0, -1.0, -1.0, -1.0, -1.0, -1.0] : 0.5848138589482528 \n",
      "\n",
      "\n",
      "[-1.0, -1.0, -1.0, -1.0, -1.0, -1.0, -1.0, -1.0] : 0.5292565423481688 \n",
      "\n",
      "\n",
      "[-1.0, -1.0, -1.0, -1.0, -1.0, -1.0, -1.0, -1.0] : 0.4789771708250927 \n",
      "\n",
      "\n",
      "[-1.0, -1.0, -1.0, -1.0, -1.0, -1.0, -1.0, -1.0] : 0.4334743395967089 \n",
      "\n",
      "\n",
      "[-1.0, -1.0, -1.0, -1.0, -1.0, -1.0, -1.0, -1.0] : 0.39229427733502154 \n",
      "\n",
      "\n",
      "[-1.0, -1.0, -1.0, -1.0, -1.0, -1.0, -1.0, -1.0] : 0.3550263209881945 \n",
      "\n",
      "\n",
      "[-1.0, -1.0, -1.0, -1.0, -1.0, -1.0, -1.0, -1.0] : 0.321298820494316 \n",
      "\n",
      "\n",
      "[-1.0, -1.0, -1.0, -1.0, -1.0, -1.0, -1.0, -1.0] : 0.290775432547356 \n",
      "\n",
      "\n",
      "[-1.0, -1.0, -1.0, -1.0, -1.0, -1.0, -1.0, -1.0] : 0.2631517664553572 \n",
      "\n",
      "\n"
     ]
    },
    {
     "name": "stderr",
     "output_type": "stream",
     "text": [
      "Current Episode:  34%|███▍      | 345/1000 [35:54<1:05:04,  5.96s/it]"
     ]
    },
    {
     "name": "stdout",
     "output_type": "stream",
     "text": [
      "[-1.0, -1.0, -1.0, -1.0, -1.0, -1.0, -1.0, -1.0] : 2.025029069162065 \n",
      "\n",
      "\n",
      "[-1.0, -1.0, 40.517628601035796, -1.0, -1.0, -1.0, -1.0, -1.0] : 2.073718985721159 \n",
      "\n",
      "\n",
      "[-1.0, -1.0, 34.028665521879965, -1.0, -1.0, -1.0, -1.0, -1.0] : 1.8326513075916688 \n",
      "\n",
      "\n"
     ]
    },
    {
     "name": "stderr",
     "output_type": "stream",
     "text": [
      "Current Episode:  35%|███▌      | 354/1000 [36:49<1:05:51,  6.12s/it]"
     ]
    },
    {
     "name": "stdout",
     "output_type": "stream",
     "text": [
      "[-1.0, 36.691659300171956, -1.0, -1.0, -1.0, -1.0, -1.0, -1.0] : 1.9299931791387992 \n",
      "\n",
      "\n"
     ]
    },
    {
     "name": "stderr",
     "output_type": "stream",
     "text": [
      "Current Episode:  36%|███▌      | 355/1000 [36:56<1:05:57,  6.13s/it]"
     ]
    },
    {
     "name": "stdout",
     "output_type": "stream",
     "text": [
      "[17.24346737261673, -1.0, -1.0, -1.0, -1.0, -1.0, -1.0, -1.0] : 9.74887224260069 \n",
      "\n",
      "\n"
     ]
    },
    {
     "name": "stderr",
     "output_type": "stream",
     "text": [
      "Current Episode:  36%|███▌      | 358/1000 [37:13<1:02:51,  5.88s/it]"
     ]
    },
    {
     "name": "stdout",
     "output_type": "stream",
     "text": [
      "[13.716121410117779, -1.0, -1.0, -1.0, -1.0, -1.0, -1.0, -1.0] : 0.7272163756360059 \n",
      "\n",
      "\n"
     ]
    },
    {
     "name": "stderr",
     "output_type": "stream",
     "text": [
      "Current Episode:  36%|███▌      | 359/1000 [37:19<1:02:21,  5.84s/it]"
     ]
    },
    {
     "name": "stdout",
     "output_type": "stream",
     "text": [
      "[37.996839926675285, -1.0, -1.0, -1.0, -1.0, -1.0, -1.0, -1.0] : 0.6224556841581393 \n",
      "\n",
      "\n"
     ]
    },
    {
     "name": "stderr",
     "output_type": "stream",
     "text": [
      "Current Episode:  36%|███▌      | 362/1000 [37:36<1:01:15,  5.76s/it]"
     ]
    },
    {
     "name": "stdout",
     "output_type": "stream",
     "text": [
      "[-1.0, -1.0, -1.0, 13.876299764193487, -1.0, -1.0, -1.0, 0.15485801402635074] : 1.011304386692883 \n",
      "\n",
      "\n"
     ]
    },
    {
     "name": "stderr",
     "output_type": "stream",
     "text": [
      "Current Episode:  36%|███▋      | 363/1000 [37:42<1:02:20,  5.87s/it]"
     ]
    },
    {
     "name": "stdout",
     "output_type": "stream",
     "text": [
      "[-1.0, -1.0, -1.0, -1.0, -1.0, -1.0, -1.0, -1.0] : 3.5321632719331393 \n",
      "\n",
      "\n",
      "[282.5730617546511, -1.0, -1.0, -1.0, -1.0, -1.0, -1.0, -1.0] : 6.271482463555891 \n",
      "\n",
      "\n",
      "[-1.0, -1.0, 26.166004299624163, -1.0, -1.0, -1.0, -1.0, -1.0] : 3.196607761099491 \n",
      "\n",
      "\n"
     ]
    },
    {
     "name": "stderr",
     "output_type": "stream",
     "text": [
      "Current Episode:  37%|███▋      | 366/1000 [37:59<1:01:24,  5.81s/it]"
     ]
    },
    {
     "name": "stdout",
     "output_type": "stream",
     "text": [
      "[15.69882838439522, -1.0, -1.0, -1.0, -1.0, -1.0, -1.0, -1.0] : 0.8662298856463201 \n",
      "\n",
      "\n"
     ]
    },
    {
     "name": "stderr",
     "output_type": "stream",
     "text": [
      "Current Episode:  37%|███▋      | 370/1000 [38:23<1:01:38,  5.87s/it]"
     ]
    }
   ],
   "source": [
    "\n",
    "if __name__ == \"__main__\":\n",
    "    p = parameters\n",
    "    domain = ForestDomain()\n",
    "    paths_taken = [[] for _ in range(p[\"n_experiments\"])]\n",
    "    cumsum_global_reward = []\n",
    "    for cf_id in range(p[\"n_experiments\"]):\n",
    "        domain.create_forest(cf_id)\n",
    "        \n",
    "    for cf_id in range(p[\"n_experiments\"]):\n",
    "        domain.setup_forest()\n",
    "        # Logging Params\n",
    "        cumsum_global_rewards_over_experiment = []\n",
    "        \n",
    "        for episode in tqdm(range(p[\"n_episodes\"]), desc=\"Current Episode\"):\n",
    "            # print(\"**********************\\n\", domain.agents[0].Qtable.values() if domain.agents[0].Qtable.values() != 0.0 else \"\", \"\\n\\n\\n\")\n",
    "            domain.reset(cf_id)\n",
    "            # print(domain.agents[0].Qtable.values(), \"***********************\\n\")\n",
    "            epsilon = p[\"epsilon\"]\n",
    "            decay = p[\"epsilon_decay_factor\"]\n",
    "    \n",
    "            # Logging Params\n",
    "            global_rewards_over_episode = []\n",
    "            \n",
    "            for step in range(p[\"n_epochs\"]):\n",
    "                domain.execute(epsilon, step, reward_type=p[\"reward_type\"])\n",
    "                global_rewards_over_episode.append(np.sum(domain.global_rewards))\n",
    "                epsilon *= decay\n",
    "                \n",
    "            cumsum_global_rewards_over_experiment.append(np.cumsum(global_rewards_over_episode)[-1])\n",
    "    \n",
    "            if episode == p[\"n_episodes\"] - 1 :\n",
    "                for agent in domain.agents:\n",
    "                    paths_taken[cf_id].append(agent.path.copy())\n",
    "                    # print([(key,\": \",value) for key, value in agent.Qtable.items() if value != 0.0], \"\\n\\n\")\n",
    "                    \n",
    "            # print(f\"Episode {episode + 1}/{p[\"n_episodes\"]} completed.\")\n",
    "            \n",
    "        # if cf_id == p[\"n_experiments\"] - 1:\n",
    "        cumsum_global_reward.append(cumsum_global_rewards_over_experiment.copy())\n",
    "        print(f\"Experiment {cf_id + 1}/{p[\"n_experiments\"]} completed.\")\n",
    "\n",
    "        # Save agent_paths using pickle\n",
    "        create_pickle_file(paths_taken[cf_id],\"Output_Data/\",(\"EXP{0}_Agent_path\").format(cf_id))\n",
    "        create_pickle_file(cumsum_global_rewards_over_experiment, \"Output_Data/\", (\"EXP{0}_cumulative_G\").format(cf_id))\n",
    "    \n",
    "    frame = pd.DataFrame(cumsum_global_reward)\n",
    "    print(frame)\n",
    "    print(np.max(cumsum_global_reward))\n",
    "    # print(\"\\n\", paths_taken)\n"
   ]
  },
  {
   "cell_type": "markdown",
   "id": "8268b64a-b334-464c-a679-6035528b196c",
   "metadata": {
    "jp-MarkdownHeadingCollapsed": true,
    "jupyter": {
     "source_hidden": true
    }
   },
   "source": [
    "# Visualization \n",
    "\n",
    "We have used PyGame to visualize the simulation of agents in the world.\n",
    "\n",
    "<details>\n",
    "    <summary> Parameters </summary>\n",
    "\n",
    "### Parameters:\n",
    "1) \n",
    "</details>\n",
    "\n",
    "<details>\n",
    "  <summary> Functions </summary>\n",
    "\n",
    "### Functions:\n",
    "1)\n",
    "</details>"
   ]
  },
  {
   "cell_type": "markdown",
   "id": "ce35e287-8bba-4f4b-a965-08e62bcabead",
   "metadata": {
    "jp-MarkdownHeadingCollapsed": true,
    "jupyter": {
     "source_hidden": true
    }
   },
   "source": [
    "pygame.init()\n",
    "\n",
    "# Window dimensions\n",
    "WIDTH, HEIGHT = 800, 600\n",
    "screen = pygame.display.set_mode((WIDTH, HEIGHT))\n",
    "pygame.display.set_caption(\"Rover Domain Simulation\")\n",
    "\n",
    "WHITE = (255, 255, 255)\n",
    "BLACK = (0, 0, 0)\n",
    "RED = (255, 0, 0)\n",
    "GREEN = (0, 255, 0)\n",
    "BLUE = (0, 0, 255)\n"
   ]
  },
  {
   "cell_type": "markdown",
   "id": "78d2909e-fe47-4c18-8540-ee52bd8d00a2",
   "metadata": {
    "jupyter": {
     "source_hidden": true
    }
   },
   "source": [
    "import pygame\n",
    "\n",
    "# Initialize Pygame\n",
    "pygame.init()\n",
    "\n",
    "# Window dimensions\n",
    "WIDTH, HEIGHT = 800, 600\n",
    "screen = pygame.display.set_mode((WIDTH, HEIGHT))\n",
    "pygame.display.set_caption(\"Rover Domain Simulation\")\n",
    "\n",
    "# Colors\n",
    "WHITE = (255, 255, 255)\n",
    "BLUE = (0, 0, 255)\n",
    "RED = (255, 0, 0)\n",
    "\n",
    "# Load a fire image for the POI\n",
    "fire_image = pygame.image.load(\"fire.png\")  # Replace with your fire image path\n",
    "fire_image = pygame.transform.scale(fire_image, (30, 30))  # Scale to desired size\n",
    "\n",
    "\n",
    "class POI:\n",
    "    def __init__(self, x, y, coupling_required):\n",
    "        self.x = x\n",
    "        self.y = y\n",
    "        self.coupling_required = coupling_required  # Number of agents required\n",
    "        self.agents_at_poi = set()  # Track agents currently at the POI\n",
    "        self.active = True\n",
    "\n",
    "    def check_coupling(self):\n",
    "        \"\"\"Check if the coupling requirement is satisfied.\"\"\"\n",
    "        if len(self.agents_at_poi) >= self.coupling_required:\n",
    "            self.active = False\n",
    "\n",
    "    def draw(self, screen):\n",
    "        \"\"\"Draw the POI if active.\"\"\"\n",
    "        if self.active:\n",
    "            screen.blit(fire_image, (self.x, self.y))\n",
    "\n",
    "\n",
    "class Rover:\n",
    "    def __init__(self, x, y, id):\n",
    "        self.x = x\n",
    "        self.y = y\n",
    "        self.id = id  # Unique identifier for the rover\n",
    "        self.color = BLUE\n",
    "        self.size = 20\n",
    "\n",
    "    def move(self, dx, dy):\n",
    "        self.x += dx\n",
    "        self.y += dy\n",
    "\n",
    "    def draw(self, screen):\n",
    "        pygame.draw.rect(screen, self.color, pygame.Rect(self.x, self.y, self.size, self.size))\n",
    "\n",
    "    def is_at_poi(self, poi):\n",
    "        \"\"\"Check if the rover is at the POI.\"\"\"\n",
    "        return (\n",
    "            poi.x <= self.x <= poi.x + 30 and\n",
    "            poi.y <= self.y <= poi.y + 30\n",
    "        )\n",
    "\n",
    "\n",
    "def run_simulation():\n",
    "    # Initialize rovers and POI\n",
    "    rovers = [Rover(100, 100, id=1), Rover(200, 200, id=2)]  # Multiple rovers\n",
    "    poi = POI(400, 300, coupling_required=2)  # POI requiring 2 agents\n",
    "\n",
    "    clock = pygame.time.Clock()\n",
    "\n",
    "    running = True\n",
    "    while running:\n",
    "        screen.fill(WHITE)  # Clear screen\n",
    "\n",
    "        # Handle events (e.g., closing the window)\n",
    "        for event in pygame.event.get():\n",
    "            if event.type == pygame.QUIT:\n",
    "                running = False\n",
    "\n",
    "        # Control rover movement (use arrow keys for the first rover, WASD for the second)\n",
    "        keys = pygame.key.get_pressed()\n",
    "        if keys[pygame.K_LEFT]:\n",
    "            rovers[0].move(-5, 0)\n",
    "        if keys[pygame.K_RIGHT]:\n",
    "            rovers[0].move(5, 0)\n",
    "        if keys[pygame.K_UP]:\n",
    "            rovers[0].move(0, -5)\n",
    "        if keys[pygame.K_DOWN]:\n",
    "            rovers[0].move(0, 5)\n",
    "\n",
    "        if keys[pygame.K_a]:\n",
    "            rovers[1].move(-5, 0)\n",
    "        if keys[pygame.K_d]:\n",
    "            rovers[1].move(5, 0)\n",
    "        if keys[pygame.K_w]:\n",
    "            rovers[1].move(0, -5)\n",
    "        if keys[pygame.K_s]:\n",
    "            rovers[1].move(0, 5)\n",
    "\n",
    "        # Check which rovers are at the POI\n",
    "        poi.agents_at_poi = {rover.id for rover in rovers if rover.is_at_poi(poi)}\n",
    "        poi.check_coupling()\n",
    "\n",
    "        # Draw the rovers and POI\n",
    "        for rover in rovers:\n",
    "            rover.draw(screen)\n",
    "\n",
    "        poi.draw(screen)\n",
    "\n",
    "        # Update the display\n",
    "        pygame.display.update()\n",
    "\n",
    "        # Limit frame rate\n",
    "        clock.tick(30)\n",
    "\n",
    "    pygame.quit()\n",
    "\n",
    "\n",
    "if __name__ == \"__main__\":\n",
    "    run_simulation()\n"
   ]
  },
  {
   "cell_type": "code",
   "execution_count": null,
   "id": "e26ee473-3654-4ee1-8dbb-771fa806a46c",
   "metadata": {
    "jupyter": {
     "source_hidden": true
    }
   },
   "outputs": [],
   "source": [
    "def import_agent_paths(config_id):\n",
    "    \"\"\"\n",
    "    Import rover paths from pickle file\n",
    "    :return:\n",
    "    \"\"\"\n",
    "    dir_name = 'Output_Data/'\n",
    "    file_name = f'EXP{config_id}_Agent_path'\n",
    "    rover_path_file = os.path.join(dir_name, file_name)\n",
    "    infile = open(rover_path_file, 'rb')\n",
    "    rover_paths = pickle.load(infile)\n",
    "    infile.close()\n",
    "\n",
    "    return rover_paths\n",
    "\n",
    "def import_poi_information(n_poi, config_id):\n",
    "    \"\"\"\n",
    "    Import POI information from saved configuration files\n",
    "    :return:\n",
    "    \"\"\"\n",
    "    pois = np.zeros((n_poi, 6))\n",
    "\n",
    "    config_input = []\n",
    "    with open(f'./Configs/POI_Config{config_id}.csv') as csvfile:\n",
    "        csv_reader = csv.reader(csvfile, delimiter=',')\n",
    "\n",
    "        for row in csv_reader:\n",
    "            config_input.append(row)\n",
    "\n",
    "    for poi_id in range(n_poi):\n",
    "        pois[poi_id, 0] = float(config_input[poi_id][0])\n",
    "        pois[poi_id, 1] = float(config_input[poi_id][1])\n",
    "        pois[poi_id, 2] = float(config_input[poi_id][2])\n",
    "        pois[poi_id, 3] = float(config_input[poi_id][3])\n",
    "        pois[poi_id, 4] = float(config_input[poi_id][4])\n",
    "        pois[poi_id, 5] = float(config_input[poi_id][5])\n",
    "    return pois\n",
    "\n",
    "def stop_viz(screen):\n",
    "    screen.bye()\n",
    "\n",
    "p = parameters\n",
    "\n",
    "def run_agent_visualizer(config_id):\n",
    "    # Define screen parameters for the\n",
    "    screen_width = p[\"x_dim\"]*10\n",
    "    screen_height = p[\"y_dim\"]*10\n",
    "    screen = turtle.Screen()\n",
    "    screen.setup(screen_width+20, screen_height+20)  # define pixel width and height of screen\n",
    "    screen.title(\"Rover Domain\")\n",
    "    screen.bgcolor(\"white\")\n",
    "    screen.tracer(0)\n",
    "    \n",
    "    rovers = []\n",
    "    rover_paths = import_agent_paths(config_id)\n",
    "    for rov_id in range(p[\"n_agents\"]):\n",
    "        rovers.append(turtle.Turtle())\n",
    "        rovers[rov_id].shape(\"circle\")\n",
    "        rovers[rov_id].shapesize(10 / 20)  # Number of pixels you want / 20 (default size)\n",
    "        rovers[rov_id].color(\"blue\")\n",
    "\n",
    "    pois = []\n",
    "    poi_info = import_poi_information(p[\"n_pois\"], config_id)\n",
    "    for poi_id in range(p[\"n_pois\"]):\n",
    "        pois.append(turtle.Turtle())\n",
    "        pois[poi_id].shape(\"triangle\")\n",
    "        pois[poi_id].shapesize(20 / 20)  # Number of pixels you want / 20 (default size)\n",
    "        pois[poi_id].color(\"red\")\n",
    "        pois[poi_id].penup()\n",
    "        # Convert rover units to pixel units used by screen\n",
    "        px = ((poi_info[poi_id, 0]/p[\"x_dim\"]) * screen_width) - (screen_width/2)\n",
    "        py = ((poi_info[poi_id, 1]/p[\"y_dim\"]) * screen_height) - (screen_height/2)\n",
    "        pois[poi_id].goto(px, py)\n",
    "        pois[poi_id].stamp()\n",
    "\n",
    "    # for srun in range(p[\"n_episodes\"]):\n",
    "    for tstep in range(p[\"n_epochs\"]):\n",
    "        screen.title(f\"Rover Domain{tstep}\")\n",
    "        for rov_id in range(p[\"n_agents\"]):\n",
    "            rovers[rov_id].clearstamps()\n",
    "            rovx = ((rover_paths[rov_id][tstep][0]/p[\"x_dim\"])*screen_width) - (screen_width/2)\n",
    "            rovy = ((rover_paths[rov_id][tstep][1]/p[\"y_dim\"])*screen_height) - (screen_height/2)\n",
    "            rovers[rov_id].goto(rovx, rovy)\n",
    "            rovers[rov_id].stamp()\n",
    "        screen.update()\n",
    "        time.sleep(0.2)\n",
    "        \n",
    "    screen.listen()  # Set the screen to listen for key presses\n",
    "    screen.onkeypress(stop_viz(screen), \"q\")\n",
    "    turtle.done()"
   ]
  },
  {
   "cell_type": "code",
   "execution_count": null,
   "id": "b6d5d118-6b35-4d2b-bea8-63ac47ee4da7",
   "metadata": {},
   "outputs": [],
   "source": [
    "# run_agent_visualizer(0)"
   ]
  }
 ],
 "metadata": {
  "kernelspec": {
   "display_name": "Python 3 (ipykernel)",
   "language": "python",
   "name": "python3"
  },
  "language_info": {
   "codemirror_mode": {
    "name": "ipython",
    "version": 3
   },
   "file_extension": ".py",
   "mimetype": "text/x-python",
   "name": "python",
   "nbconvert_exporter": "python",
   "pygments_lexer": "ipython3",
   "version": "3.12.7"
  }
 },
 "nbformat": 4,
 "nbformat_minor": 5
}
